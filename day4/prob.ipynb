{
 "cells": [
  {
   "cell_type": "markdown",
   "metadata": {},
   "source": [
    "#### Cancer Test Example\n",
    "Let us apply Bayes' Rule to a Cancer Test Example which is a very common example in Statistic classes.\n",
    "Suppose, there is a certain type of cancer which is extremely rare.\n",
    "\n",
    "Let,\n",
    "\\begin{equation}\n",
    "P(C) = 0.001\n",
    "\\end{equation}\n",
    "In other words, $1$ in every $1000$ people has this cancer. Can you compute the probability of not having cancer?\n",
    "\\begin{equation}\n",
    "P(\\neg C) = ?\n",
    "\\end{equation}\n",
    "\n",
    "The test for cancer is not $100\\%$ accurate. Let us say, probability of the test being positive given someone has cancer is,\n",
    "\\begin{equation}\n",
    "P(pos | C) = 0.8\n",
    "\\end{equation}\n",
    "Can you compute the probability that the test is negative given someone has cancer?\n",
    "\\begin{equation}\n",
    "P(neg | C) = ?\n",
    "\\end{equation}\n",
    "\n",
    "Similarly, the probability of a test being positive given that someone has no cancer is $P(pos | \\neg C) = 0.1$. Can you compute the probability that the test is negative given someone has no cancer?\n",
    "\\begin{equation}\n",
    "P(neg | \\neg C) = ?\n",
    "\\end{equation}\n",
    "\n",
    "Can you compute the following?\n",
    "\\begin{equation}\n",
    "P(C | pos) = ?\n",
    "\\end{equation}\n",
    "Interpret the quantity you computed in words!\n",
    "\n",
    "What we computed is very interesting. We computed probability of having cancer given the test results and how likely the disease is."
   ]
  },
  {
   "cell_type": "markdown",
   "metadata": {},
   "source": [
    "$P(\\neg C) = 1 - P(C) = 0.999$\n",
    "\n",
    "$P(neg|C) = 1 - P(pos|C) = 0.2$\n",
    "\n",
    "$P(neg|\\neg C) = 0.9$\n",
    "\n",
    "$P(C|pos) = \\frac{0.8 * 0.001}{0.8 * 0001 + 0.999 * 0.1} = 0.007944389275074478$"
   ]
  },
  {
   "cell_type": "code",
   "execution_count": 2,
   "metadata": {},
   "outputs": [],
   "source": [
    "import numpy as np\n",
    "import matplotlib.pyplot as plt\n",
    "\n",
    "plt.style.use('ggplot')"
   ]
  },
  {
   "cell_type": "markdown",
   "metadata": {},
   "source": [
    "## robot localization"
   ]
  },
  {
   "cell_type": "markdown",
   "metadata": {},
   "source": [
    "In this exercise we will apply basic concepts of probability and statistics to help a robot localise itself. Robot localization is an important task for any mobile robot as it needs to know where in the world it is currently situated in.\n",
    "\n",
    "You may think robot localization is a very easy problem as you can use GPS. But no! GPS has errors in localization upto a few metres which is very inaccurate for self driving cars.\n",
    "\n",
    "Hence, the robot needs to use sensors to locate itself. And sensors are noisy! Even the motion of a robot is uncertain.\n",
    "\n",
    "For the purposes of this exercise, let us assume that the world is a one dimensional world with $N$ grid cells. Each grid cell is colored either red or green which can be measured using a sensor located in the robot. However, the sensor measurements are noisy and hence we need to take a probabilitic approach to determine in which of these grid cells the robot is situated in at a given instant of time.\n",
    "\n",
    "The robot can move either left or right in this **cyclic** world. This motion is uncertain as well prompting us again to take a probabilistic approach. For example you may instruct the robot to move $5$ cells. But it may move $4/6$ cells due to a wheel slip.\n",
    "\n",
    "When the robot is switched on, it is in a state of maximum confusion. It doesn't know where it is situated. We will model this state of maximum confusion as uniform distribution. \n",
    "In other words, the robot has equal belief of being present in any of the cells.\n",
    "\n",
    "Complete the below function to return an array where the $i^{th}$ array element is the probability that the robot is in the $i^{th}$ grid cell at time instant $0$ when the robot is switched on."
   ]
  },
  {
   "cell_type": "code",
   "execution_count": 4,
   "metadata": {},
   "outputs": [],
   "source": [
    "# Modify the empty list, p, so that it becomes a UNIFORM probability\n",
    "# distribution over n grid cells, as expressed in a list of \n",
    "# n probabilities.\n",
    "def init_distribution(n):\n",
    "    # Add your code here\n",
    "    p = np.ones(n)/n\n",
    "    # End your code here\n",
    "    return p"
   ]
  },
  {
   "cell_type": "code",
   "execution_count": 5,
   "metadata": {},
   "outputs": [
    {
     "output_type": "execute_result",
     "data": {
      "text/plain": "array([0.2, 0.2, 0.2, 0.2, 0.2])"
     },
     "metadata": {},
     "execution_count": 5
    }
   ],
   "source": [
    "init_distribution(5)"
   ]
  },
  {
   "cell_type": "code",
   "execution_count": 6,
   "metadata": {},
   "outputs": [
    {
     "output_type": "execute_result",
     "data": {
      "text/plain": "(array([0.11111111, 0.33333333, 0.33333333, 0.11111111, 0.11111111]),\n array([0.27272727, 0.09090909, 0.09090909, 0.27272727, 0.27272727]))"
     },
     "metadata": {},
     "execution_count": 6
    }
   ],
   "source": [
    "#Modify the code below so that the function sense, which \n",
    "#takes p and Z as inputs, will output the normalized \n",
    "#probability distribution, q, after multiplying the entries \n",
    "# in p according to the color in the corresponding cell in world,\n",
    "# followed by normalization of the probability values\n",
    "world=np.array(['green', 'red', 'red', 'green', 'green'])\n",
    "p = init_distribution(len(world))\n",
    "P = np.array([0.25, 0.75])\n",
    "\n",
    "def sense(p, Z):\n",
    "    obs = (world == Z).astype(\"uint8\")\n",
    "\n",
    "    same = np.sum(obs) / len(world)\n",
    "    diff = 1 - same\n",
    "\n",
    "    pZx = P[obs]\n",
    "\n",
    "    _q = pZx * p\n",
    "\n",
    "    return _q/np.sum(_q)\n",
    "            \n",
    "sense(p, 'red'), sense(p, 'green')"
   ]
  },
  {
   "cell_type": "code",
   "execution_count": 8,
   "metadata": {},
   "outputs": [
    {
     "output_type": "stream",
     "name": "stdout",
     "text": "[0.2 0.2 0.2 0.2 0.2]\n"
    }
   ],
   "source": [
    "#Modify the code so that it updates the probability twice\n",
    "#and gives the posterior distribution after both \n",
    "#measurements are incorporated. Make sure that your code \n",
    "#allows for any sequence of measurement of any length.\n",
    "\n",
    "# DO NOT MODIFY THE SENSE FUNCTION. JUST CALL THE SENSE FUNCTION APPROPRIATELY\n",
    "\n",
    "p=np.array([0.2, 0.2, 0.2, 0.2, 0.2])\n",
    "world=np.array(['green', 'red', 'red', 'green', 'green'])\n",
    "measurements = np.array(['red', 'green'])\n",
    "\n",
    "# Add your code here\n",
    "for i in measurements:\n",
    "    p = sense(p, i)\n",
    "# End your code here\n",
    "print(p)"
   ]
  },
  {
   "cell_type": "code",
   "execution_count": 9,
   "metadata": {},
   "outputs": [
    {
     "output_type": "execute_result",
     "data": {
      "text/plain": "[0.11, 0.11, 0.33, 0.33, 0.11]"
     },
     "metadata": {},
     "execution_count": 9
    }
   ],
   "source": [
    "#Program a function that returns a new distribution \n",
    "#q, shifted to the right by U units. If U=0, q should \n",
    "#be the same as p.\n",
    "\n",
    "def move(p, U):\n",
    "    # ADD CODE HERE\n",
    "    n = len(p)\n",
    "    steps = -U % n\n",
    "    q = [*p, *p]\n",
    "    # END CODE HERE\n",
    "    return q[steps:steps+n]\n",
    "\n",
    "move([0.11, 0.33, 0.33, 0.11, 0.11], 1)"
   ]
  },
  {
   "cell_type": "code",
   "execution_count": 10,
   "metadata": {},
   "outputs": [
    {
     "output_type": "execute_result",
     "data": {
      "text/plain": "array([0. , 0.1, 0.8, 0.1, 0. ], dtype=float32)"
     },
     "metadata": {},
     "execution_count": 10
    }
   ],
   "source": [
    "def move_p(p, U):\n",
    "    # probabilistic movement\n",
    "    P = [(-1, 0.1), (0, 0.8), (1, 0.1)]\n",
    "\n",
    "    q = np.zeros(len(p)).astype(\"float32\")\n",
    "\n",
    "    for delta, _p in P:\n",
    "        q += np.array(move(p, U+delta)) * _p\n",
    "\n",
    "    return q\n",
    "\n",
    "move_p(np.float32([0, 1, 0, 0, 0]),1)"
   ]
  },
  {
   "cell_type": "code",
   "execution_count": 11,
   "metadata": {},
   "outputs": [
    {
     "output_type": "execute_result",
     "data": {
      "text/plain": "array([0.20000038, 0.20000045, 0.20000038, 0.20000032, 0.20000032],\n      dtype=float32)"
     },
     "metadata": {},
     "execution_count": 11
    }
   ],
   "source": [
    "p = np.array([0, 1, 0, 0, 0])\n",
    "\n",
    "for _ in range(1000):\n",
    "    p = move_p(p, 1)\n",
    "\n",
    "p"
   ]
  },
  {
   "cell_type": "code",
   "execution_count": 12,
   "metadata": {},
   "outputs": [
    {
     "output_type": "execute_result",
     "data": {
      "text/plain": "array([0.21157895, 0.15157893, 0.08105263, 0.16842104, 0.3873684 ],\n      dtype=float32)"
     },
     "metadata": {},
     "execution_count": 12
    }
   ],
   "source": [
    "#Given the list motions=[1,1] which means the robot \n",
    "#moves right and then right again, compute the posterior \n",
    "#distribution if the robot first senses red, then moves \n",
    "#right one, then senses green, then moves right again, \n",
    "#starting with a uniform prior distribution.\n",
    "\n",
    "world=np.array(['green', 'red', 'red', 'green', 'green'])\n",
    "measurements = ['red', 'green']\n",
    "motions = [1,1]\n",
    "\n",
    "p = init_distribution(len(world))\n",
    "# ADD CODE HERE\n",
    "for i in range(len(motions)):\n",
    "    p = sense(p, measurements[i])\n",
    "    p = move_p(p, motions[i])\n",
    "\n",
    "p"
   ]
  }
 ],
 "metadata": {
  "language_info": {
   "codemirror_mode": {
    "name": "ipython",
    "version": 3
   },
   "file_extension": ".py",
   "mimetype": "text/x-python",
   "name": "python",
   "nbconvert_exporter": "python",
   "pygments_lexer": "ipython3",
   "version": "3.8.3-final"
  },
  "orig_nbformat": 2,
  "kernelspec": {
   "name": "python38164bit462e0a1c309e4d38b282e2174445ebf6",
   "display_name": "Python 3.8.1 64-bit"
  }
 },
 "nbformat": 4,
 "nbformat_minor": 2
}