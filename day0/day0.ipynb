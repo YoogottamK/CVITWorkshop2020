{
  "nbformat": 4,
  "nbformat_minor": 0,
  "metadata": {
    "colab": {
      "name": "day0.ipynb",
      "provenance": [],
      "collapsed_sections": []
    },
    "kernelspec": {
      "name": "python3",
      "display_name": "Python 3"
    }
  },
  "cells": [
    {
      "cell_type": "markdown",
      "metadata": {
        "id": "ZMLd9piDJW8O",
        "colab_type": "text"
      },
      "source": [
        "# Task1"
      ]
    },
    {
      "cell_type": "code",
      "metadata": {
        "id": "BqAptxsDHWk5",
        "colab_type": "code",
        "colab": {
          "base_uri": "https://localhost:8080/",
          "height": 86
        },
        "outputId": "4da17fb7-45f4-425a-80e8-87a3b1a758b8"
      },
      "source": [
        "from random import shuffle\n",
        "\n",
        "l = list(range(10))\n",
        "shuffle(l)\n",
        "print(\"list:\", l)\n",
        "\n",
        "# reverse\n",
        "print(\"reverse:\", l[::-1])\n",
        "\n",
        "# last 5\n",
        "print(\"last 5:\", l[:-5])\n",
        "\n",
        "# remove third element\n",
        "del l[2]\n",
        "print(\"removed third element:\", l)"
      ],
      "execution_count": 1,
      "outputs": [
        {
          "output_type": "stream",
          "text": [
            "list: [5, 0, 6, 8, 9, 7, 2, 4, 1, 3]\n",
            "reverse: [3, 1, 4, 2, 7, 9, 8, 6, 0, 5]\n",
            "last 5: [5, 0, 6, 8, 9]\n",
            "removed third element: [5, 0, 8, 9, 7, 2, 4, 1, 3]\n"
          ],
          "name": "stdout"
        }
      ]
    },
    {
      "cell_type": "markdown",
      "metadata": {
        "id": "3YkDFA4AJaEf",
        "colab_type": "text"
      },
      "source": [
        "# Task 2"
      ]
    },
    {
      "cell_type": "code",
      "metadata": {
        "id": "zBuNQ4YuJt5Z",
        "colab_type": "code",
        "colab": {
          "base_uri": "https://localhost:8080/",
          "height": 86
        },
        "outputId": "af82fe45-4047-44b4-9152-c29b44625d27"
      },
      "source": [
        "x = dict([(pow(10,r),r) for r in range(10)])\n",
        "print(\"dict:\", x)\n",
        "\n",
        "# Task 2.1: List all the keys inside the dict \n",
        "print(x.keys())\n",
        "\n",
        "# Task 2.2: Remove key 100 from the dict \n",
        "del x[100]\n",
        "print(\"removed key 100:\", x)\n",
        "\n",
        "# Task 2.3: Convert the above dict into a list of key, value tuple. Then sort the list based on mod of the key value with number 101\n",
        "x_list = list(zip(x.keys(), x.values()))\n",
        "x_list.sort(key=lambda el: el[0] % 101)\n",
        "print(\"sorted:\", x_list)"
      ],
      "execution_count": 2,
      "outputs": [
        {
          "output_type": "stream",
          "text": [
            "dict: {1: 0, 10: 1, 100: 2, 1000: 3, 10000: 4, 100000: 5, 1000000: 6, 10000000: 7, 100000000: 8, 1000000000: 9}\n",
            "dict_keys([1, 10, 100, 1000, 10000, 100000, 1000000, 10000000, 100000000, 1000000000])\n",
            "removed key 100: {1: 0, 10: 1, 1000: 3, 10000: 4, 100000: 5, 1000000: 6, 10000000: 7, 100000000: 8, 1000000000: 9}\n",
            "sorted: [(1, 0), (10000, 4), (100000000, 8), (10, 1), (100000, 5), (1000000000, 9), (1000, 3), (10000000, 7), (1000000, 6)]\n"
          ],
          "name": "stdout"
        }
      ]
    }
  ]
}