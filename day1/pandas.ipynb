{
 "cells": [
  {
   "cell_type": "markdown",
   "metadata": {},
   "source": [
    "# Pandas training"
   ]
  },
  {
   "cell_type": "markdown",
   "metadata": {},
   "source": [
    "### imports"
   ]
  },
  {
   "cell_type": "code",
   "execution_count": 1,
   "metadata": {},
   "outputs": [],
   "source": [
    "import pandas as pd\n",
    "import numpy as np\n",
    "import plotly.graph_objects as go"
   ]
  },
  {
   "cell_type": "code",
   "execution_count": 2,
   "metadata": {},
   "outputs": [],
   "source": [
    "base_url = \"https://gist.githubusercontent.com/alti-tude/710cb9d4dfc7ebcd0afb9cf93d8f6a8d/raw/574730ba009e69b81d6c79f2fef2c3dd5145db0a/\""
   ]
  },
  {
   "cell_type": "markdown",
   "metadata": {},
   "source": [
    "### dataframe basics"
   ]
  },
  {
   "cell_type": "code",
   "execution_count": 5,
   "metadata": {},
   "outputs": [
    {
     "output_type": "execute_result",
     "data": {
      "text/plain": "   apples  oranges\n0       3        0\n1       2        3\n2       0        7\n3       1        2",
      "text/html": "<div>\n<style scoped>\n    .dataframe tbody tr th:only-of-type {\n        vertical-align: middle;\n    }\n\n    .dataframe tbody tr th {\n        vertical-align: top;\n    }\n\n    .dataframe thead th {\n        text-align: right;\n    }\n</style>\n<table border=\"1\" class=\"dataframe\">\n  <thead>\n    <tr style=\"text-align: right;\">\n      <th></th>\n      <th>apples</th>\n      <th>oranges</th>\n    </tr>\n  </thead>\n  <tbody>\n    <tr>\n      <th>0</th>\n      <td>3</td>\n      <td>0</td>\n    </tr>\n    <tr>\n      <th>1</th>\n      <td>2</td>\n      <td>3</td>\n    </tr>\n    <tr>\n      <th>2</th>\n      <td>0</td>\n      <td>7</td>\n    </tr>\n    <tr>\n      <th>3</th>\n      <td>1</td>\n      <td>2</td>\n    </tr>\n  </tbody>\n</table>\n</div>"
     },
     "metadata": {},
     "execution_count": 5
    }
   ],
   "source": [
    "data = {\n",
    "    \"apples\": [3, 2, 0, 1],\n",
    "    \"oranges\": [0, 3, 7, 2],\n",
    "}\n",
    "\n",
    "purchases = pd.DataFrame(data)\n",
    "\n",
    "purchases"
   ]
  },
  {
   "cell_type": "code",
   "execution_count": 6,
   "metadata": {},
   "outputs": [
    {
     "output_type": "execute_result",
     "data": {
      "text/plain": "        apples  oranges\nJune         3        0\nRobert       2        3\nLily         0        7\nDavid        1        2",
      "text/html": "<div>\n<style scoped>\n    .dataframe tbody tr th:only-of-type {\n        vertical-align: middle;\n    }\n\n    .dataframe tbody tr th {\n        vertical-align: top;\n    }\n\n    .dataframe thead th {\n        text-align: right;\n    }\n</style>\n<table border=\"1\" class=\"dataframe\">\n  <thead>\n    <tr style=\"text-align: right;\">\n      <th></th>\n      <th>apples</th>\n      <th>oranges</th>\n    </tr>\n  </thead>\n  <tbody>\n    <tr>\n      <th>June</th>\n      <td>3</td>\n      <td>0</td>\n    </tr>\n    <tr>\n      <th>Robert</th>\n      <td>2</td>\n      <td>3</td>\n    </tr>\n    <tr>\n      <th>Lily</th>\n      <td>0</td>\n      <td>7</td>\n    </tr>\n    <tr>\n      <th>David</th>\n      <td>1</td>\n      <td>2</td>\n    </tr>\n  </tbody>\n</table>\n</div>"
     },
     "metadata": {},
     "execution_count": 6
    }
   ],
   "source": [
    "purchases = pd.DataFrame(data, index=[\"June\", \"Robert\", \"Lily\", \"David\"])\n",
    "purchases"
   ]
  },
  {
   "cell_type": "code",
   "execution_count": 7,
   "metadata": {},
   "outputs": [
    {
     "output_type": "execute_result",
     "data": {
      "text/plain": "apples     3\noranges    0\nName: June, dtype: int64"
     },
     "metadata": {},
     "execution_count": 7
    }
   ],
   "source": [
    "purchases.loc[\"June\"]"
   ]
  },
  {
   "cell_type": "markdown",
   "metadata": {},
   "source": [
    "### reading files (or urls)"
   ]
  },
  {
   "cell_type": "code",
   "execution_count": 10,
   "metadata": {},
   "outputs": [
    {
     "output_type": "execute_result",
     "data": {
      "text/plain": "        apples  oranges\nJune         3        0\nRobert       2        3\nLily         0        7\nDavid        1        2",
      "text/html": "<div>\n<style scoped>\n    .dataframe tbody tr th:only-of-type {\n        vertical-align: middle;\n    }\n\n    .dataframe tbody tr th {\n        vertical-align: top;\n    }\n\n    .dataframe thead th {\n        text-align: right;\n    }\n</style>\n<table border=\"1\" class=\"dataframe\">\n  <thead>\n    <tr style=\"text-align: right;\">\n      <th></th>\n      <th>apples</th>\n      <th>oranges</th>\n    </tr>\n  </thead>\n  <tbody>\n    <tr>\n      <th>June</th>\n      <td>3</td>\n      <td>0</td>\n    </tr>\n    <tr>\n      <th>Robert</th>\n      <td>2</td>\n      <td>3</td>\n    </tr>\n    <tr>\n      <th>Lily</th>\n      <td>0</td>\n      <td>7</td>\n    </tr>\n    <tr>\n      <th>David</th>\n      <td>1</td>\n      <td>2</td>\n    </tr>\n  </tbody>\n</table>\n</div>"
     },
     "metadata": {},
     "execution_count": 10
    }
   ],
   "source": [
    "df = pd.read_csv(f\"{base_url}purchases.csv\", index_col=0)\n",
    "\n",
    "df"
   ]
  },
  {
   "cell_type": "code",
   "execution_count": 11,
   "metadata": {},
   "outputs": [
    {
     "output_type": "execute_result",
     "data": {
      "text/plain": "        apples  oranges\nJune         3        0\nRobert       2        3\nLily         0        7\nDavid        1        2",
      "text/html": "<div>\n<style scoped>\n    .dataframe tbody tr th:only-of-type {\n        vertical-align: middle;\n    }\n\n    .dataframe tbody tr th {\n        vertical-align: top;\n    }\n\n    .dataframe thead th {\n        text-align: right;\n    }\n</style>\n<table border=\"1\" class=\"dataframe\">\n  <thead>\n    <tr style=\"text-align: right;\">\n      <th></th>\n      <th>apples</th>\n      <th>oranges</th>\n    </tr>\n  </thead>\n  <tbody>\n    <tr>\n      <th>June</th>\n      <td>3</td>\n      <td>0</td>\n    </tr>\n    <tr>\n      <th>Robert</th>\n      <td>2</td>\n      <td>3</td>\n    </tr>\n    <tr>\n      <th>Lily</th>\n      <td>0</td>\n      <td>7</td>\n    </tr>\n    <tr>\n      <th>David</th>\n      <td>1</td>\n      <td>2</td>\n    </tr>\n  </tbody>\n</table>\n</div>"
     },
     "metadata": {},
     "execution_count": 11
    }
   ],
   "source": [
    "df = pd.read_json(f\"{base_url}purchases.json\")\n",
    "\n",
    "df"
   ]
  },
  {
   "cell_type": "code",
   "execution_count": 15,
   "metadata": {},
   "outputs": [
    {
     "output_type": "execute_result",
     "data": {
      "text/plain": "                         Rank                     Genre  \\\nTitle                                                     \nGuardians of the Galaxy     1   Action,Adventure,Sci-Fi   \nPrometheus                  2  Adventure,Mystery,Sci-Fi   \nSplit                       3           Horror,Thriller   \nSing                        4   Animation,Comedy,Family   \nSuicide Squad               5  Action,Adventure,Fantasy   \n\n                                                               Description  \\\nTitle                                                                        \nGuardians of the Galaxy  A group of intergalactic criminals are forced ...   \nPrometheus               Following clues to the origin of mankind, a te...   \nSplit                    Three girls are kidnapped by a man with a diag...   \nSing                     In a city of humanoid animals, a hustling thea...   \nSuicide Squad            A secret government agency recruits some of th...   \n\n                                     Director  \\\nTitle                                           \nGuardians of the Galaxy            James Gunn   \nPrometheus                       Ridley Scott   \nSplit                      M. Night Shyamalan   \nSing                     Christophe Lourdelet   \nSuicide Squad                      David Ayer   \n\n                                                                    Actors  \\\nTitle                                                                        \nGuardians of the Galaxy  Chris Pratt, Vin Diesel, Bradley Cooper, Zoe S...   \nPrometheus               Noomi Rapace, Logan Marshall-Green, Michael Fa...   \nSplit                    James McAvoy, Anya Taylor-Joy, Haley Lu Richar...   \nSing                     Matthew McConaughey,Reese Witherspoon, Seth Ma...   \nSuicide Squad            Will Smith, Jared Leto, Margot Robbie, Viola D...   \n\n                         Year  Runtime (Minutes)  Rating   Votes  \\\nTitle                                                              \nGuardians of the Galaxy  2014                121     8.1  757074   \nPrometheus               2012                124     7.0  485820   \nSplit                    2016                117     7.3  157606   \nSing                     2016                108     7.2   60545   \nSuicide Squad            2016                123     6.2  393727   \n\n                         Revenue (Millions)  Metascore  \nTitle                                                   \nGuardians of the Galaxy              333.13       76.0  \nPrometheus                           126.46       65.0  \nSplit                                138.12       62.0  \nSing                                 270.32       59.0  \nSuicide Squad                        325.02       40.0  ",
      "text/html": "<div>\n<style scoped>\n    .dataframe tbody tr th:only-of-type {\n        vertical-align: middle;\n    }\n\n    .dataframe tbody tr th {\n        vertical-align: top;\n    }\n\n    .dataframe thead th {\n        text-align: right;\n    }\n</style>\n<table border=\"1\" class=\"dataframe\">\n  <thead>\n    <tr style=\"text-align: right;\">\n      <th></th>\n      <th>Rank</th>\n      <th>Genre</th>\n      <th>Description</th>\n      <th>Director</th>\n      <th>Actors</th>\n      <th>Year</th>\n      <th>Runtime (Minutes)</th>\n      <th>Rating</th>\n      <th>Votes</th>\n      <th>Revenue (Millions)</th>\n      <th>Metascore</th>\n    </tr>\n    <tr>\n      <th>Title</th>\n      <th></th>\n      <th></th>\n      <th></th>\n      <th></th>\n      <th></th>\n      <th></th>\n      <th></th>\n      <th></th>\n      <th></th>\n      <th></th>\n      <th></th>\n    </tr>\n  </thead>\n  <tbody>\n    <tr>\n      <th>Guardians of the Galaxy</th>\n      <td>1</td>\n      <td>Action,Adventure,Sci-Fi</td>\n      <td>A group of intergalactic criminals are forced ...</td>\n      <td>James Gunn</td>\n      <td>Chris Pratt, Vin Diesel, Bradley Cooper, Zoe S...</td>\n      <td>2014</td>\n      <td>121</td>\n      <td>8.1</td>\n      <td>757074</td>\n      <td>333.13</td>\n      <td>76.0</td>\n    </tr>\n    <tr>\n      <th>Prometheus</th>\n      <td>2</td>\n      <td>Adventure,Mystery,Sci-Fi</td>\n      <td>Following clues to the origin of mankind, a te...</td>\n      <td>Ridley Scott</td>\n      <td>Noomi Rapace, Logan Marshall-Green, Michael Fa...</td>\n      <td>2012</td>\n      <td>124</td>\n      <td>7.0</td>\n      <td>485820</td>\n      <td>126.46</td>\n      <td>65.0</td>\n    </tr>\n    <tr>\n      <th>Split</th>\n      <td>3</td>\n      <td>Horror,Thriller</td>\n      <td>Three girls are kidnapped by a man with a diag...</td>\n      <td>M. Night Shyamalan</td>\n      <td>James McAvoy, Anya Taylor-Joy, Haley Lu Richar...</td>\n      <td>2016</td>\n      <td>117</td>\n      <td>7.3</td>\n      <td>157606</td>\n      <td>138.12</td>\n      <td>62.0</td>\n    </tr>\n    <tr>\n      <th>Sing</th>\n      <td>4</td>\n      <td>Animation,Comedy,Family</td>\n      <td>In a city of humanoid animals, a hustling thea...</td>\n      <td>Christophe Lourdelet</td>\n      <td>Matthew McConaughey,Reese Witherspoon, Seth Ma...</td>\n      <td>2016</td>\n      <td>108</td>\n      <td>7.2</td>\n      <td>60545</td>\n      <td>270.32</td>\n      <td>59.0</td>\n    </tr>\n    <tr>\n      <th>Suicide Squad</th>\n      <td>5</td>\n      <td>Action,Adventure,Fantasy</td>\n      <td>A secret government agency recruits some of th...</td>\n      <td>David Ayer</td>\n      <td>Will Smith, Jared Leto, Margot Robbie, Viola D...</td>\n      <td>2016</td>\n      <td>123</td>\n      <td>6.2</td>\n      <td>393727</td>\n      <td>325.02</td>\n      <td>40.0</td>\n    </tr>\n  </tbody>\n</table>\n</div>"
     },
     "metadata": {},
     "execution_count": 15
    }
   ],
   "source": [
    "movies_df = pd.read_csv(f\"{base_url}IMDB-Movie-Data.csv\", index_col=\"Title\")\n",
    "\n",
    "movies_df.head()"
   ]
  },
  {
   "cell_type": "code",
   "execution_count": 17,
   "metadata": {},
   "outputs": [
    {
     "output_type": "execute_result",
     "data": {
      "text/plain": "                                Rank                     Genre  \\\nTitle                                                            \nUnderworld: Rise of the Lycans   991  Action,Adventure,Fantasy   \nTaare Zameen Par                 992        Drama,Family,Music   \nTake Me Home Tonight             993      Comedy,Drama,Romance   \nResident Evil: Afterlife         994   Action,Adventure,Horror   \nProject X                        995                    Comedy   \nSecret in Their Eyes             996       Crime,Drama,Mystery   \nHostel: Part II                  997                    Horror   \nStep Up 2: The Streets           998       Drama,Music,Romance   \nSearch Party                     999          Adventure,Comedy   \nNine Lives                      1000     Comedy,Family,Fantasy   \n\n                                                                      Description  \\\nTitle                                                                               \nUnderworld: Rise of the Lycans  An origins story centered on the centuries-old...   \nTaare Zameen Par                An eight-year-old boy is thought to be a lazy ...   \nTake Me Home Tonight            Four years after graduation, an awkward high s...   \nResident Evil: Afterlife        While still out to destroy the evil Umbrella C...   \nProject X                       3 high school seniors throw a birthday party t...   \nSecret in Their Eyes            A tight-knit team of rising investigators, alo...   \nHostel: Part II                 Three American college students studying abroa...   \nStep Up 2: The Streets          Romantic sparks occur between two dance studen...   \nSearch Party                    A pair of friends embark on a mission to reuni...   \nNine Lives                      A stuffy businessman finds himself trapped ins...   \n\n                                          Director  \\\nTitle                                                \nUnderworld: Rise of the Lycans  Patrick Tatopoulos   \nTaare Zameen Par                        Aamir Khan   \nTake Me Home Tonight                 Michael Dowse   \nResident Evil: Afterlife        Paul W.S. Anderson   \nProject X                          Nima Nourizadeh   \nSecret in Their Eyes                     Billy Ray   \nHostel: Part II                           Eli Roth   \nStep Up 2: The Streets                  Jon M. Chu   \nSearch Party                        Scot Armstrong   \nNine Lives                        Barry Sonnenfeld   \n\n                                                                           Actors  \\\nTitle                                                                               \nUnderworld: Rise of the Lycans  Rhona Mitra, Michael Sheen, Bill Nighy, Steven...   \nTaare Zameen Par                Darsheel Safary, Aamir Khan, Tanay Chheda, Sac...   \nTake Me Home Tonight            Topher Grace, Anna Faris, Dan Fogler, Teresa P...   \nResident Evil: Afterlife        Milla Jovovich, Ali Larter, Wentworth Miller,K...   \nProject X                       Thomas Mann, Oliver Cooper, Jonathan Daniel Br...   \nSecret in Their Eyes            Chiwetel Ejiofor, Nicole Kidman, Julia Roberts...   \nHostel: Part II                 Lauren German, Heather Matarazzo, Bijou Philli...   \nStep Up 2: The Streets          Robert Hoffman, Briana Evigan, Cassie Ventura,...   \nSearch Party                    Adam Pally, T.J. Miller, Thomas Middleditch,Sh...   \nNine Lives                      Kevin Spacey, Jennifer Garner, Robbie Amell,Ch...   \n\n                                Year  Runtime (Minutes)  Rating   Votes  \\\nTitle                                                                     \nUnderworld: Rise of the Lycans  2009                 92     6.6  129708   \nTaare Zameen Par                2007                165     8.5  102697   \nTake Me Home Tonight            2011                 97     6.3   45419   \nResident Evil: Afterlife        2010                 97     5.9  140900   \nProject X                       2012                 88     6.7  164088   \nSecret in Their Eyes            2015                111     6.2   27585   \nHostel: Part II                 2007                 94     5.5   73152   \nStep Up 2: The Streets          2008                 98     6.2   70699   \nSearch Party                    2014                 93     5.6    4881   \nNine Lives                      2016                 87     5.3   12435   \n\n                                Revenue (Millions)  Metascore  \nTitle                                                          \nUnderworld: Rise of the Lycans               45.80       44.0  \nTaare Zameen Par                              1.20       42.0  \nTake Me Home Tonight                          6.92        NaN  \nResident Evil: Afterlife                     60.13       37.0  \nProject X                                    54.72       48.0  \nSecret in Their Eyes                           NaN       45.0  \nHostel: Part II                              17.54       46.0  \nStep Up 2: The Streets                       58.01       50.0  \nSearch Party                                   NaN       22.0  \nNine Lives                                   19.64       11.0  ",
      "text/html": "<div>\n<style scoped>\n    .dataframe tbody tr th:only-of-type {\n        vertical-align: middle;\n    }\n\n    .dataframe tbody tr th {\n        vertical-align: top;\n    }\n\n    .dataframe thead th {\n        text-align: right;\n    }\n</style>\n<table border=\"1\" class=\"dataframe\">\n  <thead>\n    <tr style=\"text-align: right;\">\n      <th></th>\n      <th>Rank</th>\n      <th>Genre</th>\n      <th>Description</th>\n      <th>Director</th>\n      <th>Actors</th>\n      <th>Year</th>\n      <th>Runtime (Minutes)</th>\n      <th>Rating</th>\n      <th>Votes</th>\n      <th>Revenue (Millions)</th>\n      <th>Metascore</th>\n    </tr>\n    <tr>\n      <th>Title</th>\n      <th></th>\n      <th></th>\n      <th></th>\n      <th></th>\n      <th></th>\n      <th></th>\n      <th></th>\n      <th></th>\n      <th></th>\n      <th></th>\n      <th></th>\n    </tr>\n  </thead>\n  <tbody>\n    <tr>\n      <th>Underworld: Rise of the Lycans</th>\n      <td>991</td>\n      <td>Action,Adventure,Fantasy</td>\n      <td>An origins story centered on the centuries-old...</td>\n      <td>Patrick Tatopoulos</td>\n      <td>Rhona Mitra, Michael Sheen, Bill Nighy, Steven...</td>\n      <td>2009</td>\n      <td>92</td>\n      <td>6.6</td>\n      <td>129708</td>\n      <td>45.80</td>\n      <td>44.0</td>\n    </tr>\n    <tr>\n      <th>Taare Zameen Par</th>\n      <td>992</td>\n      <td>Drama,Family,Music</td>\n      <td>An eight-year-old boy is thought to be a lazy ...</td>\n      <td>Aamir Khan</td>\n      <td>Darsheel Safary, Aamir Khan, Tanay Chheda, Sac...</td>\n      <td>2007</td>\n      <td>165</td>\n      <td>8.5</td>\n      <td>102697</td>\n      <td>1.20</td>\n      <td>42.0</td>\n    </tr>\n    <tr>\n      <th>Take Me Home Tonight</th>\n      <td>993</td>\n      <td>Comedy,Drama,Romance</td>\n      <td>Four years after graduation, an awkward high s...</td>\n      <td>Michael Dowse</td>\n      <td>Topher Grace, Anna Faris, Dan Fogler, Teresa P...</td>\n      <td>2011</td>\n      <td>97</td>\n      <td>6.3</td>\n      <td>45419</td>\n      <td>6.92</td>\n      <td>NaN</td>\n    </tr>\n    <tr>\n      <th>Resident Evil: Afterlife</th>\n      <td>994</td>\n      <td>Action,Adventure,Horror</td>\n      <td>While still out to destroy the evil Umbrella C...</td>\n      <td>Paul W.S. Anderson</td>\n      <td>Milla Jovovich, Ali Larter, Wentworth Miller,K...</td>\n      <td>2010</td>\n      <td>97</td>\n      <td>5.9</td>\n      <td>140900</td>\n      <td>60.13</td>\n      <td>37.0</td>\n    </tr>\n    <tr>\n      <th>Project X</th>\n      <td>995</td>\n      <td>Comedy</td>\n      <td>3 high school seniors throw a birthday party t...</td>\n      <td>Nima Nourizadeh</td>\n      <td>Thomas Mann, Oliver Cooper, Jonathan Daniel Br...</td>\n      <td>2012</td>\n      <td>88</td>\n      <td>6.7</td>\n      <td>164088</td>\n      <td>54.72</td>\n      <td>48.0</td>\n    </tr>\n    <tr>\n      <th>Secret in Their Eyes</th>\n      <td>996</td>\n      <td>Crime,Drama,Mystery</td>\n      <td>A tight-knit team of rising investigators, alo...</td>\n      <td>Billy Ray</td>\n      <td>Chiwetel Ejiofor, Nicole Kidman, Julia Roberts...</td>\n      <td>2015</td>\n      <td>111</td>\n      <td>6.2</td>\n      <td>27585</td>\n      <td>NaN</td>\n      <td>45.0</td>\n    </tr>\n    <tr>\n      <th>Hostel: Part II</th>\n      <td>997</td>\n      <td>Horror</td>\n      <td>Three American college students studying abroa...</td>\n      <td>Eli Roth</td>\n      <td>Lauren German, Heather Matarazzo, Bijou Philli...</td>\n      <td>2007</td>\n      <td>94</td>\n      <td>5.5</td>\n      <td>73152</td>\n      <td>17.54</td>\n      <td>46.0</td>\n    </tr>\n    <tr>\n      <th>Step Up 2: The Streets</th>\n      <td>998</td>\n      <td>Drama,Music,Romance</td>\n      <td>Romantic sparks occur between two dance studen...</td>\n      <td>Jon M. Chu</td>\n      <td>Robert Hoffman, Briana Evigan, Cassie Ventura,...</td>\n      <td>2008</td>\n      <td>98</td>\n      <td>6.2</td>\n      <td>70699</td>\n      <td>58.01</td>\n      <td>50.0</td>\n    </tr>\n    <tr>\n      <th>Search Party</th>\n      <td>999</td>\n      <td>Adventure,Comedy</td>\n      <td>A pair of friends embark on a mission to reuni...</td>\n      <td>Scot Armstrong</td>\n      <td>Adam Pally, T.J. Miller, Thomas Middleditch,Sh...</td>\n      <td>2014</td>\n      <td>93</td>\n      <td>5.6</td>\n      <td>4881</td>\n      <td>NaN</td>\n      <td>22.0</td>\n    </tr>\n    <tr>\n      <th>Nine Lives</th>\n      <td>1000</td>\n      <td>Comedy,Family,Fantasy</td>\n      <td>A stuffy businessman finds himself trapped ins...</td>\n      <td>Barry Sonnenfeld</td>\n      <td>Kevin Spacey, Jennifer Garner, Robbie Amell,Ch...</td>\n      <td>2016</td>\n      <td>87</td>\n      <td>5.3</td>\n      <td>12435</td>\n      <td>19.64</td>\n      <td>11.0</td>\n    </tr>\n  </tbody>\n</table>\n</div>"
     },
     "metadata": {},
     "execution_count": 17
    }
   ],
   "source": [
    "movies_df.tail(10)"
   ]
  },
  {
   "cell_type": "code",
   "execution_count": 18,
   "metadata": {},
   "outputs": [
    {
     "output_type": "stream",
     "name": "stdout",
     "text": "<class 'pandas.core.frame.DataFrame'>\nIndex: 1000 entries, Guardians of the Galaxy to Nine Lives\nData columns (total 11 columns):\n #   Column              Non-Null Count  Dtype  \n---  ------              --------------  -----  \n 0   Rank                1000 non-null   int64  \n 1   Genre               1000 non-null   object \n 2   Description         1000 non-null   object \n 3   Director            1000 non-null   object \n 4   Actors              1000 non-null   object \n 5   Year                1000 non-null   int64  \n 6   Runtime (Minutes)   1000 non-null   int64  \n 7   Rating              1000 non-null   float64\n 8   Votes               1000 non-null   int64  \n 9   Revenue (Millions)  872 non-null    float64\n 10  Metascore           936 non-null    float64\ndtypes: float64(3), int64(4), object(4)\nmemory usage: 133.8+ KB\n"
    }
   ],
   "source": [
    "movies_df.info()"
   ]
  },
  {
   "cell_type": "code",
   "execution_count": 19,
   "metadata": {},
   "outputs": [
    {
     "output_type": "execute_result",
     "data": {
      "text/plain": "(1000, 11)"
     },
     "metadata": {},
     "execution_count": 19
    }
   ],
   "source": [
    "movies_df.shape"
   ]
  },
  {
   "cell_type": "markdown",
   "metadata": {},
   "source": [
    "### actions on dataframe"
   ]
  },
  {
   "cell_type": "code",
   "execution_count": 20,
   "metadata": {},
   "outputs": [
    {
     "output_type": "execute_result",
     "data": {
      "text/plain": "(2000, 11)"
     },
     "metadata": {},
     "execution_count": 20
    }
   ],
   "source": [
    "tmp_df = movies_df.append(movies_df)\n",
    "\n",
    "tmp_df.shape"
   ]
  },
  {
   "cell_type": "code",
   "execution_count": 21,
   "metadata": {},
   "outputs": [
    {
     "output_type": "execute_result",
     "data": {
      "text/plain": "(1000, 11)"
     },
     "metadata": {},
     "execution_count": 21
    }
   ],
   "source": [
    "tmp_df = tmp_df.drop_duplicates()\n",
    "\n",
    "tmp_df.shape"
   ]
  },
  {
   "cell_type": "code",
   "execution_count": 23,
   "metadata": {},
   "outputs": [
    {
     "output_type": "stream",
     "name": "stdout",
     "text": "<class 'pandas.core.frame.DataFrame'>\nIndex: 1000 entries, Guardians of the Galaxy to Nine Lives\nData columns (total 11 columns):\n #   Column       Non-Null Count  Dtype  \n---  ------       --------------  -----  \n 0   Rank         1000 non-null   int64  \n 1   Genre        1000 non-null   object \n 2   Description  1000 non-null   object \n 3   Director     1000 non-null   object \n 4   Actors       1000 non-null   object \n 5   Year         1000 non-null   int64  \n 6   Runtime      1000 non-null   int64  \n 7   Rating       1000 non-null   float64\n 8   Votes        1000 non-null   int64  \n 9   Revenue      872 non-null    float64\n 10  Metascore    936 non-null    float64\ndtypes: float64(3), int64(4), object(4)\nmemory usage: 93.8+ KB\n"
    }
   ],
   "source": [
    "movies_df.rename(\n",
    "    columns={\n",
    "        \"Runtime (Minutes)\": \"Runtime\",\n",
    "        \"Revenue (Millions)\": \"Revenue\",\n",
    "    },\n",
    "    inplace=True\n",
    ")\n",
    "\n",
    "movies_df.info()"
   ]
  },
  {
   "cell_type": "code",
   "execution_count": 25,
   "metadata": {},
   "outputs": [
    {
     "output_type": "execute_result",
     "data": {
      "text/plain": "Index(['rank', 'genre', 'description', 'director', 'actors', 'year', 'runtime',\n       'rating', 'votes', 'revenue', 'metascore'],\n      dtype='object')"
     },
     "metadata": {},
     "execution_count": 25
    }
   ],
   "source": [
    "movies_df.columns = [\"rank\", \"genre\", \"description\", \"director\", \"actors\", \"year\", \"runtime\", \"rating\", \"votes\", \"revenue\", \"metascore\"]\n",
    "\n",
    "movies_df.columns"
   ]
  },
  {
   "cell_type": "markdown",
   "metadata": {},
   "source": [
    "### managing nulls"
   ]
  },
  {
   "cell_type": "code",
   "execution_count": 31,
   "metadata": {},
   "outputs": [
    {
     "output_type": "execute_result",
     "data": {
      "text/plain": "                           rank  genre  description  director  actors   year  \\\nTitle                                                                          \nGuardians of the Galaxy   False  False        False     False   False  False   \nPrometheus                False  False        False     False   False  False   \nSplit                     False  False        False     False   False  False   \nSing                      False  False        False     False   False  False   \nSuicide Squad             False  False        False     False   False  False   \n...                         ...    ...          ...       ...     ...    ...   \nResident Evil: Afterlife  False  False        False     False   False  False   \nProject X                 False  False        False     False   False  False   \nHostel: Part II           False  False        False     False   False  False   \nStep Up 2: The Streets    False  False        False     False   False  False   \nNine Lives                False  False        False     False   False  False   \n\n                          runtime  rating  votes  revenue  metascore  \nTitle                                                                 \nGuardians of the Galaxy     False   False  False    False      False  \nPrometheus                  False   False  False    False      False  \nSplit                       False   False  False    False      False  \nSing                        False   False  False    False      False  \nSuicide Squad               False   False  False    False      False  \n...                           ...     ...    ...      ...        ...  \nResident Evil: Afterlife    False   False  False    False      False  \nProject X                   False   False  False    False      False  \nHostel: Part II             False   False  False    False      False  \nStep Up 2: The Streets      False   False  False    False      False  \nNine Lives                  False   False  False    False      False  \n\n[838 rows x 11 columns]",
      "text/html": "<div>\n<style scoped>\n    .dataframe tbody tr th:only-of-type {\n        vertical-align: middle;\n    }\n\n    .dataframe tbody tr th {\n        vertical-align: top;\n    }\n\n    .dataframe thead th {\n        text-align: right;\n    }\n</style>\n<table border=\"1\" class=\"dataframe\">\n  <thead>\n    <tr style=\"text-align: right;\">\n      <th></th>\n      <th>rank</th>\n      <th>genre</th>\n      <th>description</th>\n      <th>director</th>\n      <th>actors</th>\n      <th>year</th>\n      <th>runtime</th>\n      <th>rating</th>\n      <th>votes</th>\n      <th>revenue</th>\n      <th>metascore</th>\n    </tr>\n    <tr>\n      <th>Title</th>\n      <th></th>\n      <th></th>\n      <th></th>\n      <th></th>\n      <th></th>\n      <th></th>\n      <th></th>\n      <th></th>\n      <th></th>\n      <th></th>\n      <th></th>\n    </tr>\n  </thead>\n  <tbody>\n    <tr>\n      <th>Guardians of the Galaxy</th>\n      <td>False</td>\n      <td>False</td>\n      <td>False</td>\n      <td>False</td>\n      <td>False</td>\n      <td>False</td>\n      <td>False</td>\n      <td>False</td>\n      <td>False</td>\n      <td>False</td>\n      <td>False</td>\n    </tr>\n    <tr>\n      <th>Prometheus</th>\n      <td>False</td>\n      <td>False</td>\n      <td>False</td>\n      <td>False</td>\n      <td>False</td>\n      <td>False</td>\n      <td>False</td>\n      <td>False</td>\n      <td>False</td>\n      <td>False</td>\n      <td>False</td>\n    </tr>\n    <tr>\n      <th>Split</th>\n      <td>False</td>\n      <td>False</td>\n      <td>False</td>\n      <td>False</td>\n      <td>False</td>\n      <td>False</td>\n      <td>False</td>\n      <td>False</td>\n      <td>False</td>\n      <td>False</td>\n      <td>False</td>\n    </tr>\n    <tr>\n      <th>Sing</th>\n      <td>False</td>\n      <td>False</td>\n      <td>False</td>\n      <td>False</td>\n      <td>False</td>\n      <td>False</td>\n      <td>False</td>\n      <td>False</td>\n      <td>False</td>\n      <td>False</td>\n      <td>False</td>\n    </tr>\n    <tr>\n      <th>Suicide Squad</th>\n      <td>False</td>\n      <td>False</td>\n      <td>False</td>\n      <td>False</td>\n      <td>False</td>\n      <td>False</td>\n      <td>False</td>\n      <td>False</td>\n      <td>False</td>\n      <td>False</td>\n      <td>False</td>\n    </tr>\n    <tr>\n      <th>...</th>\n      <td>...</td>\n      <td>...</td>\n      <td>...</td>\n      <td>...</td>\n      <td>...</td>\n      <td>...</td>\n      <td>...</td>\n      <td>...</td>\n      <td>...</td>\n      <td>...</td>\n      <td>...</td>\n    </tr>\n    <tr>\n      <th>Resident Evil: Afterlife</th>\n      <td>False</td>\n      <td>False</td>\n      <td>False</td>\n      <td>False</td>\n      <td>False</td>\n      <td>False</td>\n      <td>False</td>\n      <td>False</td>\n      <td>False</td>\n      <td>False</td>\n      <td>False</td>\n    </tr>\n    <tr>\n      <th>Project X</th>\n      <td>False</td>\n      <td>False</td>\n      <td>False</td>\n      <td>False</td>\n      <td>False</td>\n      <td>False</td>\n      <td>False</td>\n      <td>False</td>\n      <td>False</td>\n      <td>False</td>\n      <td>False</td>\n    </tr>\n    <tr>\n      <th>Hostel: Part II</th>\n      <td>False</td>\n      <td>False</td>\n      <td>False</td>\n      <td>False</td>\n      <td>False</td>\n      <td>False</td>\n      <td>False</td>\n      <td>False</td>\n      <td>False</td>\n      <td>False</td>\n      <td>False</td>\n    </tr>\n    <tr>\n      <th>Step Up 2: The Streets</th>\n      <td>False</td>\n      <td>False</td>\n      <td>False</td>\n      <td>False</td>\n      <td>False</td>\n      <td>False</td>\n      <td>False</td>\n      <td>False</td>\n      <td>False</td>\n      <td>False</td>\n      <td>False</td>\n    </tr>\n    <tr>\n      <th>Nine Lives</th>\n      <td>False</td>\n      <td>False</td>\n      <td>False</td>\n      <td>False</td>\n      <td>False</td>\n      <td>False</td>\n      <td>False</td>\n      <td>False</td>\n      <td>False</td>\n      <td>False</td>\n      <td>False</td>\n    </tr>\n  </tbody>\n</table>\n<p>838 rows × 11 columns</p>\n</div>"
     },
     "metadata": {},
     "execution_count": 31
    }
   ],
   "source": [
    "movies_df.dropna().isnull()"
   ]
  },
  {
   "cell_type": "code",
   "execution_count": 33,
   "metadata": {},
   "outputs": [],
   "source": [
    "revenue = movies_df[\"revenue\"]\n",
    "mean_revenue = revenue.mean()\n",
    "revenue.fillna(mean_revenue, inplace=True)\n",
    "\n",
    "movies_df[\"revenue\"] = revenue"
   ]
  },
  {
   "cell_type": "markdown",
   "metadata": {},
   "source": [
    "### selecting rows"
   ]
  },
  {
   "cell_type": "code",
   "execution_count": 36,
   "metadata": {},
   "outputs": [
    {
     "output_type": "execute_result",
     "data": {
      "text/plain": "(rank                                                           2\n genre                                   Adventure,Mystery,Sci-Fi\n description    Following clues to the origin of mankind, a te...\n director                                            Ridley Scott\n actors         Noomi Rapace, Logan Marshall-Green, Michael Fa...\n year                                                        2012\n runtime                                                      124\n rating                                                         7\n votes                                                     485820\n revenue                                                   126.46\n metascore                                                     65\n Name: Prometheus, dtype: object,\n rank                                                           2\n genre                                   Adventure,Mystery,Sci-Fi\n description    Following clues to the origin of mankind, a te...\n director                                            Ridley Scott\n actors         Noomi Rapace, Logan Marshall-Green, Michael Fa...\n year                                                        2012\n runtime                                                      124\n rating                                                         7\n votes                                                     485820\n revenue                                                   126.46\n metascore                                                     65\n Name: Prometheus, dtype: object)"
     },
     "metadata": {},
     "execution_count": 36
    }
   ],
   "source": [
    "movies_df.loc[\"Prometheus\"], movies_df.iloc[1]"
   ]
  },
  {
   "cell_type": "code",
   "execution_count": 38,
   "metadata": {},
   "outputs": [
    {
     "output_type": "execute_result",
     "data": {
      "text/plain": "            rank                     genre  \\\nTitle                                        \nPrometheus     2  Adventure,Mystery,Sci-Fi   \nSplit          3           Horror,Thriller   \nSing           4   Animation,Comedy,Family   \n\n                                                  description  \\\nTitle                                                           \nPrometheus  Following clues to the origin of mankind, a te...   \nSplit       Three girls are kidnapped by a man with a diag...   \nSing        In a city of humanoid animals, a hustling thea...   \n\n                        director  \\\nTitle                              \nPrometheus          Ridley Scott   \nSplit         M. Night Shyamalan   \nSing        Christophe Lourdelet   \n\n                                                       actors  year  runtime  \\\nTitle                                                                          \nPrometheus  Noomi Rapace, Logan Marshall-Green, Michael Fa...  2012      124   \nSplit       James McAvoy, Anya Taylor-Joy, Haley Lu Richar...  2016      117   \nSing        Matthew McConaughey,Reese Witherspoon, Seth Ma...  2016      108   \n\n            rating   votes  revenue  metascore  \nTitle                                           \nPrometheus     7.0  485820   126.46       65.0  \nSplit          7.3  157606   138.12       62.0  \nSing           7.2   60545   270.32       59.0  ",
      "text/html": "<div>\n<style scoped>\n    .dataframe tbody tr th:only-of-type {\n        vertical-align: middle;\n    }\n\n    .dataframe tbody tr th {\n        vertical-align: top;\n    }\n\n    .dataframe thead th {\n        text-align: right;\n    }\n</style>\n<table border=\"1\" class=\"dataframe\">\n  <thead>\n    <tr style=\"text-align: right;\">\n      <th></th>\n      <th>rank</th>\n      <th>genre</th>\n      <th>description</th>\n      <th>director</th>\n      <th>actors</th>\n      <th>year</th>\n      <th>runtime</th>\n      <th>rating</th>\n      <th>votes</th>\n      <th>revenue</th>\n      <th>metascore</th>\n    </tr>\n    <tr>\n      <th>Title</th>\n      <th></th>\n      <th></th>\n      <th></th>\n      <th></th>\n      <th></th>\n      <th></th>\n      <th></th>\n      <th></th>\n      <th></th>\n      <th></th>\n      <th></th>\n    </tr>\n  </thead>\n  <tbody>\n    <tr>\n      <th>Prometheus</th>\n      <td>2</td>\n      <td>Adventure,Mystery,Sci-Fi</td>\n      <td>Following clues to the origin of mankind, a te...</td>\n      <td>Ridley Scott</td>\n      <td>Noomi Rapace, Logan Marshall-Green, Michael Fa...</td>\n      <td>2012</td>\n      <td>124</td>\n      <td>7.0</td>\n      <td>485820</td>\n      <td>126.46</td>\n      <td>65.0</td>\n    </tr>\n    <tr>\n      <th>Split</th>\n      <td>3</td>\n      <td>Horror,Thriller</td>\n      <td>Three girls are kidnapped by a man with a diag...</td>\n      <td>M. Night Shyamalan</td>\n      <td>James McAvoy, Anya Taylor-Joy, Haley Lu Richar...</td>\n      <td>2016</td>\n      <td>117</td>\n      <td>7.3</td>\n      <td>157606</td>\n      <td>138.12</td>\n      <td>62.0</td>\n    </tr>\n    <tr>\n      <th>Sing</th>\n      <td>4</td>\n      <td>Animation,Comedy,Family</td>\n      <td>In a city of humanoid animals, a hustling thea...</td>\n      <td>Christophe Lourdelet</td>\n      <td>Matthew McConaughey,Reese Witherspoon, Seth Ma...</td>\n      <td>2016</td>\n      <td>108</td>\n      <td>7.2</td>\n      <td>60545</td>\n      <td>270.32</td>\n      <td>59.0</td>\n    </tr>\n  </tbody>\n</table>\n</div>"
     },
     "metadata": {},
     "execution_count": 38
    }
   ],
   "source": [
    "movies_df.loc[\"Prometheus\":\"Sing\"]"
   ]
  },
  {
   "cell_type": "code",
   "execution_count": 40,
   "metadata": {},
   "outputs": [
    {
     "output_type": "execute_result",
     "data": {
      "text/plain": "            rank                     genre  \\\nTitle                                        \nPrometheus     2  Adventure,Mystery,Sci-Fi   \nSplit          3           Horror,Thriller   \nSing           4   Animation,Comedy,Family   \n\n                                                  description  \\\nTitle                                                           \nPrometheus  Following clues to the origin of mankind, a te...   \nSplit       Three girls are kidnapped by a man with a diag...   \nSing        In a city of humanoid animals, a hustling thea...   \n\n                        director  \\\nTitle                              \nPrometheus          Ridley Scott   \nSplit         M. Night Shyamalan   \nSing        Christophe Lourdelet   \n\n                                                       actors  year  runtime  \\\nTitle                                                                          \nPrometheus  Noomi Rapace, Logan Marshall-Green, Michael Fa...  2012      124   \nSplit       James McAvoy, Anya Taylor-Joy, Haley Lu Richar...  2016      117   \nSing        Matthew McConaughey,Reese Witherspoon, Seth Ma...  2016      108   \n\n            rating   votes  revenue  metascore  \nTitle                                           \nPrometheus     7.0  485820   126.46       65.0  \nSplit          7.3  157606   138.12       62.0  \nSing           7.2   60545   270.32       59.0  ",
      "text/html": "<div>\n<style scoped>\n    .dataframe tbody tr th:only-of-type {\n        vertical-align: middle;\n    }\n\n    .dataframe tbody tr th {\n        vertical-align: top;\n    }\n\n    .dataframe thead th {\n        text-align: right;\n    }\n</style>\n<table border=\"1\" class=\"dataframe\">\n  <thead>\n    <tr style=\"text-align: right;\">\n      <th></th>\n      <th>rank</th>\n      <th>genre</th>\n      <th>description</th>\n      <th>director</th>\n      <th>actors</th>\n      <th>year</th>\n      <th>runtime</th>\n      <th>rating</th>\n      <th>votes</th>\n      <th>revenue</th>\n      <th>metascore</th>\n    </tr>\n    <tr>\n      <th>Title</th>\n      <th></th>\n      <th></th>\n      <th></th>\n      <th></th>\n      <th></th>\n      <th></th>\n      <th></th>\n      <th></th>\n      <th></th>\n      <th></th>\n      <th></th>\n    </tr>\n  </thead>\n  <tbody>\n    <tr>\n      <th>Prometheus</th>\n      <td>2</td>\n      <td>Adventure,Mystery,Sci-Fi</td>\n      <td>Following clues to the origin of mankind, a te...</td>\n      <td>Ridley Scott</td>\n      <td>Noomi Rapace, Logan Marshall-Green, Michael Fa...</td>\n      <td>2012</td>\n      <td>124</td>\n      <td>7.0</td>\n      <td>485820</td>\n      <td>126.46</td>\n      <td>65.0</td>\n    </tr>\n    <tr>\n      <th>Split</th>\n      <td>3</td>\n      <td>Horror,Thriller</td>\n      <td>Three girls are kidnapped by a man with a diag...</td>\n      <td>M. Night Shyamalan</td>\n      <td>James McAvoy, Anya Taylor-Joy, Haley Lu Richar...</td>\n      <td>2016</td>\n      <td>117</td>\n      <td>7.3</td>\n      <td>157606</td>\n      <td>138.12</td>\n      <td>62.0</td>\n    </tr>\n    <tr>\n      <th>Sing</th>\n      <td>4</td>\n      <td>Animation,Comedy,Family</td>\n      <td>In a city of humanoid animals, a hustling thea...</td>\n      <td>Christophe Lourdelet</td>\n      <td>Matthew McConaughey,Reese Witherspoon, Seth Ma...</td>\n      <td>2016</td>\n      <td>108</td>\n      <td>7.2</td>\n      <td>60545</td>\n      <td>270.32</td>\n      <td>59.0</td>\n    </tr>\n  </tbody>\n</table>\n</div>"
     },
     "metadata": {},
     "execution_count": 40
    }
   ],
   "source": [
    "movies_df.iloc[1:4]"
   ]
  },
  {
   "cell_type": "code",
   "execution_count": 41,
   "metadata": {},
   "outputs": [
    {
     "output_type": "execute_result",
     "data": {
      "text/plain": "                        rank                     genre  \\\nTitle                                                    \nPrometheus                 2  Adventure,Mystery,Sci-Fi   \nThe Martian              103    Adventure,Drama,Sci-Fi   \nRobin Hood               388    Action,Adventure,Drama   \nAmerican Gangster        471     Biography,Crime,Drama   \nExodus: Gods and Kings   517    Action,Adventure,Drama   \nThe Counselor            522      Crime,Drama,Thriller   \nA Good Year              531      Comedy,Drama,Romance   \nBody of Lies             738      Action,Drama,Romance   \n\n                                                              description  \\\nTitle                                                                       \nPrometheus              Following clues to the origin of mankind, a te...   \nThe Martian             An astronaut becomes stranded on Mars after hi...   \nRobin Hood              In 12th century England, Robin and his band of...   \nAmerican Gangster       In 1970s America, a detective works to bring d...   \nExodus: Gods and Kings  The defiant leader Moses rises up against the ...   \nThe Counselor           A lawyer finds himself in over his head when h...   \nA Good Year             A British investment broker inherits his uncle...   \nBody of Lies            A CIA agent on the ground in Jordan hunts down...   \n\n                            director  \\\nTitle                                  \nPrometheus              Ridley Scott   \nThe Martian             Ridley Scott   \nRobin Hood              Ridley Scott   \nAmerican Gangster       Ridley Scott   \nExodus: Gods and Kings  Ridley Scott   \nThe Counselor           Ridley Scott   \nA Good Year             Ridley Scott   \nBody of Lies            Ridley Scott   \n\n                                                                   actors  \\\nTitle                                                                       \nPrometheus              Noomi Rapace, Logan Marshall-Green, Michael Fa...   \nThe Martian             Matt Damon, Jessica Chastain, Kristen Wiig, Ka...   \nRobin Hood              Russell Crowe, Cate Blanchett, Matthew Macfady...   \nAmerican Gangster       Denzel Washington, Russell Crowe, Chiwetel Eji...   \nExodus: Gods and Kings  Christian Bale, Joel Edgerton, Ben Kingsley, S...   \nThe Counselor           Michael Fassbender, Penélope Cruz, Cameron Dia...   \nA Good Year             Russell Crowe, Abbie Cornish, Albert Finney, M...   \nBody of Lies            Leonardo DiCaprio, Russell Crowe, Mark Strong,...   \n\n                        year  runtime  rating   votes  revenue  metascore  \nTitle                                                                      \nPrometheus              2012      124     7.0  485820   126.46       65.0  \nThe Martian             2015      144     8.0  556097   228.43       80.0  \nRobin Hood              2010      140     6.7  221117   105.22       53.0  \nAmerican Gangster       2007      157     7.8  337835   130.13       76.0  \nExodus: Gods and Kings  2014      150     6.0  137299    65.01       52.0  \nThe Counselor           2013      117     5.3   84927    16.97       48.0  \nA Good Year             2006      117     6.9   74674     7.46       47.0  \nBody of Lies            2008      128     7.1  182305    39.38       57.0  ",
      "text/html": "<div>\n<style scoped>\n    .dataframe tbody tr th:only-of-type {\n        vertical-align: middle;\n    }\n\n    .dataframe tbody tr th {\n        vertical-align: top;\n    }\n\n    .dataframe thead th {\n        text-align: right;\n    }\n</style>\n<table border=\"1\" class=\"dataframe\">\n  <thead>\n    <tr style=\"text-align: right;\">\n      <th></th>\n      <th>rank</th>\n      <th>genre</th>\n      <th>description</th>\n      <th>director</th>\n      <th>actors</th>\n      <th>year</th>\n      <th>runtime</th>\n      <th>rating</th>\n      <th>votes</th>\n      <th>revenue</th>\n      <th>metascore</th>\n    </tr>\n    <tr>\n      <th>Title</th>\n      <th></th>\n      <th></th>\n      <th></th>\n      <th></th>\n      <th></th>\n      <th></th>\n      <th></th>\n      <th></th>\n      <th></th>\n      <th></th>\n      <th></th>\n    </tr>\n  </thead>\n  <tbody>\n    <tr>\n      <th>Prometheus</th>\n      <td>2</td>\n      <td>Adventure,Mystery,Sci-Fi</td>\n      <td>Following clues to the origin of mankind, a te...</td>\n      <td>Ridley Scott</td>\n      <td>Noomi Rapace, Logan Marshall-Green, Michael Fa...</td>\n      <td>2012</td>\n      <td>124</td>\n      <td>7.0</td>\n      <td>485820</td>\n      <td>126.46</td>\n      <td>65.0</td>\n    </tr>\n    <tr>\n      <th>The Martian</th>\n      <td>103</td>\n      <td>Adventure,Drama,Sci-Fi</td>\n      <td>An astronaut becomes stranded on Mars after hi...</td>\n      <td>Ridley Scott</td>\n      <td>Matt Damon, Jessica Chastain, Kristen Wiig, Ka...</td>\n      <td>2015</td>\n      <td>144</td>\n      <td>8.0</td>\n      <td>556097</td>\n      <td>228.43</td>\n      <td>80.0</td>\n    </tr>\n    <tr>\n      <th>Robin Hood</th>\n      <td>388</td>\n      <td>Action,Adventure,Drama</td>\n      <td>In 12th century England, Robin and his band of...</td>\n      <td>Ridley Scott</td>\n      <td>Russell Crowe, Cate Blanchett, Matthew Macfady...</td>\n      <td>2010</td>\n      <td>140</td>\n      <td>6.7</td>\n      <td>221117</td>\n      <td>105.22</td>\n      <td>53.0</td>\n    </tr>\n    <tr>\n      <th>American Gangster</th>\n      <td>471</td>\n      <td>Biography,Crime,Drama</td>\n      <td>In 1970s America, a detective works to bring d...</td>\n      <td>Ridley Scott</td>\n      <td>Denzel Washington, Russell Crowe, Chiwetel Eji...</td>\n      <td>2007</td>\n      <td>157</td>\n      <td>7.8</td>\n      <td>337835</td>\n      <td>130.13</td>\n      <td>76.0</td>\n    </tr>\n    <tr>\n      <th>Exodus: Gods and Kings</th>\n      <td>517</td>\n      <td>Action,Adventure,Drama</td>\n      <td>The defiant leader Moses rises up against the ...</td>\n      <td>Ridley Scott</td>\n      <td>Christian Bale, Joel Edgerton, Ben Kingsley, S...</td>\n      <td>2014</td>\n      <td>150</td>\n      <td>6.0</td>\n      <td>137299</td>\n      <td>65.01</td>\n      <td>52.0</td>\n    </tr>\n    <tr>\n      <th>The Counselor</th>\n      <td>522</td>\n      <td>Crime,Drama,Thriller</td>\n      <td>A lawyer finds himself in over his head when h...</td>\n      <td>Ridley Scott</td>\n      <td>Michael Fassbender, Penélope Cruz, Cameron Dia...</td>\n      <td>2013</td>\n      <td>117</td>\n      <td>5.3</td>\n      <td>84927</td>\n      <td>16.97</td>\n      <td>48.0</td>\n    </tr>\n    <tr>\n      <th>A Good Year</th>\n      <td>531</td>\n      <td>Comedy,Drama,Romance</td>\n      <td>A British investment broker inherits his uncle...</td>\n      <td>Ridley Scott</td>\n      <td>Russell Crowe, Abbie Cornish, Albert Finney, M...</td>\n      <td>2006</td>\n      <td>117</td>\n      <td>6.9</td>\n      <td>74674</td>\n      <td>7.46</td>\n      <td>47.0</td>\n    </tr>\n    <tr>\n      <th>Body of Lies</th>\n      <td>738</td>\n      <td>Action,Drama,Romance</td>\n      <td>A CIA agent on the ground in Jordan hunts down...</td>\n      <td>Ridley Scott</td>\n      <td>Leonardo DiCaprio, Russell Crowe, Mark Strong,...</td>\n      <td>2008</td>\n      <td>128</td>\n      <td>7.1</td>\n      <td>182305</td>\n      <td>39.38</td>\n      <td>57.0</td>\n    </tr>\n  </tbody>\n</table>\n</div>"
     },
     "metadata": {},
     "execution_count": 41
    }
   ],
   "source": [
    "movies_df[movies_df[\"director\"] == \"Ridley Scott\"]"
   ]
  },
  {
   "cell_type": "code",
   "execution_count": 42,
   "metadata": {},
   "outputs": [
    {
     "output_type": "execute_result",
     "data": {
      "text/plain": "                 rank                    genre  \\\nTitle                                            \nInterstellar       37   Adventure,Drama,Sci-Fi   \nThe Dark Knight    55       Action,Crime,Drama   \nInception          81  Action,Adventure,Sci-Fi   \n\n                                                       description  \\\nTitle                                                                \nInterstellar     A team of explorers travel through a wormhole ...   \nThe Dark Knight  When the menace known as the Joker wreaks havo...   \nInception        A thief, who steals corporate secrets through ...   \n\n                          director  \\\nTitle                                \nInterstellar     Christopher Nolan   \nThe Dark Knight  Christopher Nolan   \nInception        Christopher Nolan   \n\n                                                            actors  year  \\\nTitle                                                                      \nInterstellar     Matthew McConaughey, Anne Hathaway, Jessica Ch...  2014   \nThe Dark Knight  Christian Bale, Heath Ledger, Aaron Eckhart,Mi...  2008   \nInception        Leonardo DiCaprio, Joseph Gordon-Levitt, Ellen...  2010   \n\n                 runtime  rating    votes  revenue  metascore  \nTitle                                                          \nInterstellar         169     8.6  1047747   187.99       74.0  \nThe Dark Knight      152     9.0  1791916   533.32       82.0  \nInception            148     8.8  1583625   292.57       74.0  ",
      "text/html": "<div>\n<style scoped>\n    .dataframe tbody tr th:only-of-type {\n        vertical-align: middle;\n    }\n\n    .dataframe tbody tr th {\n        vertical-align: top;\n    }\n\n    .dataframe thead th {\n        text-align: right;\n    }\n</style>\n<table border=\"1\" class=\"dataframe\">\n  <thead>\n    <tr style=\"text-align: right;\">\n      <th></th>\n      <th>rank</th>\n      <th>genre</th>\n      <th>description</th>\n      <th>director</th>\n      <th>actors</th>\n      <th>year</th>\n      <th>runtime</th>\n      <th>rating</th>\n      <th>votes</th>\n      <th>revenue</th>\n      <th>metascore</th>\n    </tr>\n    <tr>\n      <th>Title</th>\n      <th></th>\n      <th></th>\n      <th></th>\n      <th></th>\n      <th></th>\n      <th></th>\n      <th></th>\n      <th></th>\n      <th></th>\n      <th></th>\n      <th></th>\n    </tr>\n  </thead>\n  <tbody>\n    <tr>\n      <th>Interstellar</th>\n      <td>37</td>\n      <td>Adventure,Drama,Sci-Fi</td>\n      <td>A team of explorers travel through a wormhole ...</td>\n      <td>Christopher Nolan</td>\n      <td>Matthew McConaughey, Anne Hathaway, Jessica Ch...</td>\n      <td>2014</td>\n      <td>169</td>\n      <td>8.6</td>\n      <td>1047747</td>\n      <td>187.99</td>\n      <td>74.0</td>\n    </tr>\n    <tr>\n      <th>The Dark Knight</th>\n      <td>55</td>\n      <td>Action,Crime,Drama</td>\n      <td>When the menace known as the Joker wreaks havo...</td>\n      <td>Christopher Nolan</td>\n      <td>Christian Bale, Heath Ledger, Aaron Eckhart,Mi...</td>\n      <td>2008</td>\n      <td>152</td>\n      <td>9.0</td>\n      <td>1791916</td>\n      <td>533.32</td>\n      <td>82.0</td>\n    </tr>\n    <tr>\n      <th>Inception</th>\n      <td>81</td>\n      <td>Action,Adventure,Sci-Fi</td>\n      <td>A thief, who steals corporate secrets through ...</td>\n      <td>Christopher Nolan</td>\n      <td>Leonardo DiCaprio, Joseph Gordon-Levitt, Ellen...</td>\n      <td>2010</td>\n      <td>148</td>\n      <td>8.8</td>\n      <td>1583625</td>\n      <td>292.57</td>\n      <td>74.0</td>\n    </tr>\n  </tbody>\n</table>\n</div>"
     },
     "metadata": {},
     "execution_count": 42
    }
   ],
   "source": [
    "movies_df[movies_df[\"rating\"] >= 8.6].head(3)"
   ]
  },
  {
   "cell_type": "code",
   "execution_count": 46,
   "metadata": {},
   "outputs": [
    {
     "output_type": "execute_result",
     "data": {
      "text/plain": "                       rank                    genre  \\\nTitle                                                  \nInterstellar             37   Adventure,Drama,Sci-Fi   \nThe Dark Knight          55       Action,Crime,Drama   \nThe Prestige             65     Drama,Mystery,Sci-Fi   \nInception                81  Action,Adventure,Sci-Fi   \nKimi no na wa            97  Animation,Drama,Fantasy   \nDangal                  118   Action,Biography,Drama   \nThe Dark Knight Rises   125          Action,Thriller   \nThe Intouchables        250   Biography,Comedy,Drama   \n\n                                                             description  \\\nTitle                                                                      \nInterstellar           A team of explorers travel through a wormhole ...   \nThe Dark Knight        When the menace known as the Joker wreaks havo...   \nThe Prestige           Two stage magicians engage in competitive one-...   \nInception              A thief, who steals corporate secrets through ...   \nKimi no na wa          Two strangers find themselves linked in a biza...   \nDangal                 Former wrestler Mahavir Singh Phogat and his t...   \nThe Dark Knight Rises  Eight years after the Joker's reign of anarchy...   \nThe Intouchables       After he becomes a quadriplegic from a paragli...   \n\n                                director  \\\nTitle                                      \nInterstellar           Christopher Nolan   \nThe Dark Knight        Christopher Nolan   \nThe Prestige           Christopher Nolan   \nInception              Christopher Nolan   \nKimi no na wa             Makoto Shinkai   \nDangal                     Nitesh Tiwari   \nThe Dark Knight Rises  Christopher Nolan   \nThe Intouchables         Olivier Nakache   \n\n                                                                  actors  \\\nTitle                                                                      \nInterstellar           Matthew McConaughey, Anne Hathaway, Jessica Ch...   \nThe Dark Knight        Christian Bale, Heath Ledger, Aaron Eckhart,Mi...   \nThe Prestige           Christian Bale, Hugh Jackman, Scarlett Johanss...   \nInception              Leonardo DiCaprio, Joseph Gordon-Levitt, Ellen...   \nKimi no na wa          Ryûnosuke Kamiki, Mone Kamishiraishi, Ryô Nari...   \nDangal                 Aamir Khan, Sakshi Tanwar, Fatima Sana Shaikh,...   \nThe Dark Knight Rises  Christian Bale, Tom Hardy, Anne Hathaway,Gary ...   \nThe Intouchables       François Cluzet, Omar Sy, Anne Le Ny, Audrey F...   \n\n                       year  runtime  rating    votes  revenue  metascore  \nTitle                                                                      \nInterstellar           2014      169     8.6  1047747   187.99       74.0  \nThe Dark Knight        2008      152     9.0  1791916   533.32       82.0  \nThe Prestige           2006      130     8.5   913152    53.08       66.0  \nInception              2010      148     8.8  1583625   292.57       74.0  \nKimi no na wa          2016      106     8.6    34110     4.68       79.0  \nDangal                 2016      161     8.8    48969    11.15        NaN  \nThe Dark Knight Rises  2012      164     8.5  1222645   448.13       78.0  \nThe Intouchables       2011      112     8.6   557965    13.18       57.0  ",
      "text/html": "<div>\n<style scoped>\n    .dataframe tbody tr th:only-of-type {\n        vertical-align: middle;\n    }\n\n    .dataframe tbody tr th {\n        vertical-align: top;\n    }\n\n    .dataframe thead th {\n        text-align: right;\n    }\n</style>\n<table border=\"1\" class=\"dataframe\">\n  <thead>\n    <tr style=\"text-align: right;\">\n      <th></th>\n      <th>rank</th>\n      <th>genre</th>\n      <th>description</th>\n      <th>director</th>\n      <th>actors</th>\n      <th>year</th>\n      <th>runtime</th>\n      <th>rating</th>\n      <th>votes</th>\n      <th>revenue</th>\n      <th>metascore</th>\n    </tr>\n    <tr>\n      <th>Title</th>\n      <th></th>\n      <th></th>\n      <th></th>\n      <th></th>\n      <th></th>\n      <th></th>\n      <th></th>\n      <th></th>\n      <th></th>\n      <th></th>\n      <th></th>\n    </tr>\n  </thead>\n  <tbody>\n    <tr>\n      <th>Interstellar</th>\n      <td>37</td>\n      <td>Adventure,Drama,Sci-Fi</td>\n      <td>A team of explorers travel through a wormhole ...</td>\n      <td>Christopher Nolan</td>\n      <td>Matthew McConaughey, Anne Hathaway, Jessica Ch...</td>\n      <td>2014</td>\n      <td>169</td>\n      <td>8.6</td>\n      <td>1047747</td>\n      <td>187.99</td>\n      <td>74.0</td>\n    </tr>\n    <tr>\n      <th>The Dark Knight</th>\n      <td>55</td>\n      <td>Action,Crime,Drama</td>\n      <td>When the menace known as the Joker wreaks havo...</td>\n      <td>Christopher Nolan</td>\n      <td>Christian Bale, Heath Ledger, Aaron Eckhart,Mi...</td>\n      <td>2008</td>\n      <td>152</td>\n      <td>9.0</td>\n      <td>1791916</td>\n      <td>533.32</td>\n      <td>82.0</td>\n    </tr>\n    <tr>\n      <th>The Prestige</th>\n      <td>65</td>\n      <td>Drama,Mystery,Sci-Fi</td>\n      <td>Two stage magicians engage in competitive one-...</td>\n      <td>Christopher Nolan</td>\n      <td>Christian Bale, Hugh Jackman, Scarlett Johanss...</td>\n      <td>2006</td>\n      <td>130</td>\n      <td>8.5</td>\n      <td>913152</td>\n      <td>53.08</td>\n      <td>66.0</td>\n    </tr>\n    <tr>\n      <th>Inception</th>\n      <td>81</td>\n      <td>Action,Adventure,Sci-Fi</td>\n      <td>A thief, who steals corporate secrets through ...</td>\n      <td>Christopher Nolan</td>\n      <td>Leonardo DiCaprio, Joseph Gordon-Levitt, Ellen...</td>\n      <td>2010</td>\n      <td>148</td>\n      <td>8.8</td>\n      <td>1583625</td>\n      <td>292.57</td>\n      <td>74.0</td>\n    </tr>\n    <tr>\n      <th>Kimi no na wa</th>\n      <td>97</td>\n      <td>Animation,Drama,Fantasy</td>\n      <td>Two strangers find themselves linked in a biza...</td>\n      <td>Makoto Shinkai</td>\n      <td>Ryûnosuke Kamiki, Mone Kamishiraishi, Ryô Nari...</td>\n      <td>2016</td>\n      <td>106</td>\n      <td>8.6</td>\n      <td>34110</td>\n      <td>4.68</td>\n      <td>79.0</td>\n    </tr>\n    <tr>\n      <th>Dangal</th>\n      <td>118</td>\n      <td>Action,Biography,Drama</td>\n      <td>Former wrestler Mahavir Singh Phogat and his t...</td>\n      <td>Nitesh Tiwari</td>\n      <td>Aamir Khan, Sakshi Tanwar, Fatima Sana Shaikh,...</td>\n      <td>2016</td>\n      <td>161</td>\n      <td>8.8</td>\n      <td>48969</td>\n      <td>11.15</td>\n      <td>NaN</td>\n    </tr>\n    <tr>\n      <th>The Dark Knight Rises</th>\n      <td>125</td>\n      <td>Action,Thriller</td>\n      <td>Eight years after the Joker's reign of anarchy...</td>\n      <td>Christopher Nolan</td>\n      <td>Christian Bale, Tom Hardy, Anne Hathaway,Gary ...</td>\n      <td>2012</td>\n      <td>164</td>\n      <td>8.5</td>\n      <td>1222645</td>\n      <td>448.13</td>\n      <td>78.0</td>\n    </tr>\n    <tr>\n      <th>The Intouchables</th>\n      <td>250</td>\n      <td>Biography,Comedy,Drama</td>\n      <td>After he becomes a quadriplegic from a paragli...</td>\n      <td>Olivier Nakache</td>\n      <td>François Cluzet, Omar Sy, Anne Le Ny, Audrey F...</td>\n      <td>2011</td>\n      <td>112</td>\n      <td>8.6</td>\n      <td>557965</td>\n      <td>13.18</td>\n      <td>57.0</td>\n    </tr>\n  </tbody>\n</table>\n</div>"
     },
     "metadata": {},
     "execution_count": 46
    }
   ],
   "source": [
    "movies_df[(movies_df[\"rating\"] >= 8.6) | (movies_df[\"director\"] == \"Christopher Nolan\")]"
   ]
  },
  {
   "cell_type": "markdown",
   "metadata": {},
   "source": [
    "### applying functions"
   ]
  },
  {
   "cell_type": "code",
   "execution_count": 48,
   "metadata": {},
   "outputs": [
    {
     "output_type": "execute_result",
     "data": {
      "text/plain": "                         rank                     genre  \\\nTitle                                                     \nGuardians of the Galaxy     1   Action,Adventure,Sci-Fi   \nPrometheus                  2  Adventure,Mystery,Sci-Fi   \nSplit                       3           Horror,Thriller   \nSing                        4   Animation,Comedy,Family   \nSuicide Squad               5  Action,Adventure,Fantasy   \n\n                                                               description  \\\nTitle                                                                        \nGuardians of the Galaxy  A group of intergalactic criminals are forced ...   \nPrometheus               Following clues to the origin of mankind, a te...   \nSplit                    Three girls are kidnapped by a man with a diag...   \nSing                     In a city of humanoid animals, a hustling thea...   \nSuicide Squad            A secret government agency recruits some of th...   \n\n                                     director  \\\nTitle                                           \nGuardians of the Galaxy            James Gunn   \nPrometheus                       Ridley Scott   \nSplit                      M. Night Shyamalan   \nSing                     Christophe Lourdelet   \nSuicide Squad                      David Ayer   \n\n                                                                    actors  \\\nTitle                                                                        \nGuardians of the Galaxy  Chris Pratt, Vin Diesel, Bradley Cooper, Zoe S...   \nPrometheus               Noomi Rapace, Logan Marshall-Green, Michael Fa...   \nSplit                    James McAvoy, Anya Taylor-Joy, Haley Lu Richar...   \nSing                     Matthew McConaughey,Reese Witherspoon, Seth Ma...   \nSuicide Squad            Will Smith, Jared Leto, Margot Robbie, Viola D...   \n\n                         year  runtime  rating   votes  revenue  metascore  \\\nTitle                                                                        \nGuardians of the Galaxy  2014      121     8.1  757074   333.13       76.0   \nPrometheus               2012      124     7.0  485820   126.46       65.0   \nSplit                    2016      117     7.3  157606   138.12       62.0   \nSing                     2016      108     7.2   60545   270.32       59.0   \nSuicide Squad            2016      123     6.2  393727   325.02       40.0   \n\n                        rating_category  \nTitle                                    \nGuardians of the Galaxy            good  \nPrometheus                          bad  \nSplit                               bad  \nSing                                bad  \nSuicide Squad                       bad  ",
      "text/html": "<div>\n<style scoped>\n    .dataframe tbody tr th:only-of-type {\n        vertical-align: middle;\n    }\n\n    .dataframe tbody tr th {\n        vertical-align: top;\n    }\n\n    .dataframe thead th {\n        text-align: right;\n    }\n</style>\n<table border=\"1\" class=\"dataframe\">\n  <thead>\n    <tr style=\"text-align: right;\">\n      <th></th>\n      <th>rank</th>\n      <th>genre</th>\n      <th>description</th>\n      <th>director</th>\n      <th>actors</th>\n      <th>year</th>\n      <th>runtime</th>\n      <th>rating</th>\n      <th>votes</th>\n      <th>revenue</th>\n      <th>metascore</th>\n      <th>rating_category</th>\n    </tr>\n    <tr>\n      <th>Title</th>\n      <th></th>\n      <th></th>\n      <th></th>\n      <th></th>\n      <th></th>\n      <th></th>\n      <th></th>\n      <th></th>\n      <th></th>\n      <th></th>\n      <th></th>\n      <th></th>\n    </tr>\n  </thead>\n  <tbody>\n    <tr>\n      <th>Guardians of the Galaxy</th>\n      <td>1</td>\n      <td>Action,Adventure,Sci-Fi</td>\n      <td>A group of intergalactic criminals are forced ...</td>\n      <td>James Gunn</td>\n      <td>Chris Pratt, Vin Diesel, Bradley Cooper, Zoe S...</td>\n      <td>2014</td>\n      <td>121</td>\n      <td>8.1</td>\n      <td>757074</td>\n      <td>333.13</td>\n      <td>76.0</td>\n      <td>good</td>\n    </tr>\n    <tr>\n      <th>Prometheus</th>\n      <td>2</td>\n      <td>Adventure,Mystery,Sci-Fi</td>\n      <td>Following clues to the origin of mankind, a te...</td>\n      <td>Ridley Scott</td>\n      <td>Noomi Rapace, Logan Marshall-Green, Michael Fa...</td>\n      <td>2012</td>\n      <td>124</td>\n      <td>7.0</td>\n      <td>485820</td>\n      <td>126.46</td>\n      <td>65.0</td>\n      <td>bad</td>\n    </tr>\n    <tr>\n      <th>Split</th>\n      <td>3</td>\n      <td>Horror,Thriller</td>\n      <td>Three girls are kidnapped by a man with a diag...</td>\n      <td>M. Night Shyamalan</td>\n      <td>James McAvoy, Anya Taylor-Joy, Haley Lu Richar...</td>\n      <td>2016</td>\n      <td>117</td>\n      <td>7.3</td>\n      <td>157606</td>\n      <td>138.12</td>\n      <td>62.0</td>\n      <td>bad</td>\n    </tr>\n    <tr>\n      <th>Sing</th>\n      <td>4</td>\n      <td>Animation,Comedy,Family</td>\n      <td>In a city of humanoid animals, a hustling thea...</td>\n      <td>Christophe Lourdelet</td>\n      <td>Matthew McConaughey,Reese Witherspoon, Seth Ma...</td>\n      <td>2016</td>\n      <td>108</td>\n      <td>7.2</td>\n      <td>60545</td>\n      <td>270.32</td>\n      <td>59.0</td>\n      <td>bad</td>\n    </tr>\n    <tr>\n      <th>Suicide Squad</th>\n      <td>5</td>\n      <td>Action,Adventure,Fantasy</td>\n      <td>A secret government agency recruits some of th...</td>\n      <td>David Ayer</td>\n      <td>Will Smith, Jared Leto, Margot Robbie, Viola D...</td>\n      <td>2016</td>\n      <td>123</td>\n      <td>6.2</td>\n      <td>393727</td>\n      <td>325.02</td>\n      <td>40.0</td>\n      <td>bad</td>\n    </tr>\n  </tbody>\n</table>\n</div>"
     },
     "metadata": {},
     "execution_count": 48
    }
   ],
   "source": [
    "label = lambda x: \"good\" if x >= 8.0 else \"bad\"\n",
    "movies_df[\"rating_category\"] = movies_df[\"rating\"].apply(label)\n",
    "\n",
    "movies_df.head()"
   ]
  },
  {
   "cell_type": "markdown",
   "metadata": {},
   "source": [
    "## Task"
   ]
  },
  {
   "cell_type": "code",
   "execution_count": 72,
   "metadata": {},
   "outputs": [
    {
     "output_type": "stream",
     "name": "stdout",
     "text": "<class 'pandas.core.frame.DataFrame'>\nInt64Index: 50 entries, 1 to 50\nData columns (total 13 columns):\n #   Column              Non-Null Count  Dtype  \n---  ------              --------------  -----  \n 0   Track.Name          50 non-null     object \n 1   Artist.Name         50 non-null     object \n 2   Genre               50 non-null     object \n 3   Beats.Per.Minute    48 non-null     float64\n 4   Energy              49 non-null     float64\n 5   Danceability..db..  50 non-null     int64  \n 6   Loudness..          50 non-null     int64  \n 7   Liveness.           48 non-null     float64\n 8   Valence ()          49 non-null     float64\n 9   Length              47 non-null     float64\n 10  Acousticness        50 non-null     int64  \n 11  Speechiness         50 non-null     int64  \n 12  Popularity          49 non-null     float64\ndtypes: float64(6), int64(4), object(3)\nmemory usage: 5.5+ KB\n"
    }
   ],
   "source": [
    "music_df = pd.read_csv(f\"{base_url}MusicTop50.csv\", index_col=0)\n",
    "\n",
    "music_df.info()"
   ]
  },
  {
   "cell_type": "code",
   "execution_count": 73,
   "metadata": {},
   "outputs": [
    {
     "output_type": "execute_result",
     "data": {
      "text/plain": "                        Track.Name    Artist.Name           Genre  \\\n1                         Se�orita   Shawn Mendes    canadian pop   \n2                            China       Anuel AA  reggaeton flow   \n3    boyfriend (with Social House)  Ariana Grande       dance pop   \n4  Beautiful People (feat. Khalid)     Ed Sheeran             pop   \n5      Goodbyes (Feat. Young Thug)    Post Malone         dfw rap   \n\n   Beats.Per.Minute  Energy  Danceability..db..  Loudness..  Liveness.  \\\n1             117.0    55.0                  76          -6        8.0   \n2             105.0    81.0                  79          -4        8.0   \n3             190.0    80.0                  40          -4       16.0   \n4              93.0    65.0                  64          -8        8.0   \n5               NaN    65.0                  58          -4       11.0   \n\n   Valence ()  Length  Acousticness  Speechiness  Popularity  \n1        75.0   191.0             4            3        79.0  \n2        61.0   302.0             8            9        92.0  \n3        70.0   186.0            12           46        85.0  \n4        55.0   198.0            12           19        86.0  \n5        18.0   175.0            45            7        94.0  ",
      "text/html": "<div>\n<style scoped>\n    .dataframe tbody tr th:only-of-type {\n        vertical-align: middle;\n    }\n\n    .dataframe tbody tr th {\n        vertical-align: top;\n    }\n\n    .dataframe thead th {\n        text-align: right;\n    }\n</style>\n<table border=\"1\" class=\"dataframe\">\n  <thead>\n    <tr style=\"text-align: right;\">\n      <th></th>\n      <th>Track.Name</th>\n      <th>Artist.Name</th>\n      <th>Genre</th>\n      <th>Beats.Per.Minute</th>\n      <th>Energy</th>\n      <th>Danceability..db..</th>\n      <th>Loudness..</th>\n      <th>Liveness.</th>\n      <th>Valence ()</th>\n      <th>Length</th>\n      <th>Acousticness</th>\n      <th>Speechiness</th>\n      <th>Popularity</th>\n    </tr>\n  </thead>\n  <tbody>\n    <tr>\n      <th>1</th>\n      <td>Se�orita</td>\n      <td>Shawn Mendes</td>\n      <td>canadian pop</td>\n      <td>117.0</td>\n      <td>55.0</td>\n      <td>76</td>\n      <td>-6</td>\n      <td>8.0</td>\n      <td>75.0</td>\n      <td>191.0</td>\n      <td>4</td>\n      <td>3</td>\n      <td>79.0</td>\n    </tr>\n    <tr>\n      <th>2</th>\n      <td>China</td>\n      <td>Anuel AA</td>\n      <td>reggaeton flow</td>\n      <td>105.0</td>\n      <td>81.0</td>\n      <td>79</td>\n      <td>-4</td>\n      <td>8.0</td>\n      <td>61.0</td>\n      <td>302.0</td>\n      <td>8</td>\n      <td>9</td>\n      <td>92.0</td>\n    </tr>\n    <tr>\n      <th>3</th>\n      <td>boyfriend (with Social House)</td>\n      <td>Ariana Grande</td>\n      <td>dance pop</td>\n      <td>190.0</td>\n      <td>80.0</td>\n      <td>40</td>\n      <td>-4</td>\n      <td>16.0</td>\n      <td>70.0</td>\n      <td>186.0</td>\n      <td>12</td>\n      <td>46</td>\n      <td>85.0</td>\n    </tr>\n    <tr>\n      <th>4</th>\n      <td>Beautiful People (feat. Khalid)</td>\n      <td>Ed Sheeran</td>\n      <td>pop</td>\n      <td>93.0</td>\n      <td>65.0</td>\n      <td>64</td>\n      <td>-8</td>\n      <td>8.0</td>\n      <td>55.0</td>\n      <td>198.0</td>\n      <td>12</td>\n      <td>19</td>\n      <td>86.0</td>\n    </tr>\n    <tr>\n      <th>5</th>\n      <td>Goodbyes (Feat. Young Thug)</td>\n      <td>Post Malone</td>\n      <td>dfw rap</td>\n      <td>NaN</td>\n      <td>65.0</td>\n      <td>58</td>\n      <td>-4</td>\n      <td>11.0</td>\n      <td>18.0</td>\n      <td>175.0</td>\n      <td>45</td>\n      <td>7</td>\n      <td>94.0</td>\n    </tr>\n  </tbody>\n</table>\n</div>"
     },
     "metadata": {},
     "execution_count": 73
    }
   ],
   "source": [
    "music_df.head()"
   ]
  },
  {
   "cell_type": "code",
   "execution_count": 74,
   "metadata": {},
   "outputs": [
    {
     "output_type": "execute_result",
     "data": {
      "text/plain": "                                       Track.Name       Artist.Name    Genre  \\\n46                                One Thing Right        Marshmello  brostep   \n47                                      Te Robar�         Nicky Jam    latin   \n48                                        Happier        Marshmello  brostep   \n49                                  Call You Mine  The Chainsmokers      edm   \n50  Cross Me (feat. Chance the Rapper & PnB Rock)        Ed Sheeran      pop   \n\n    Beats.Per.Minute  Energy  Danceability..db..  Loudness..  Liveness.  \\\n46              88.0    62.0                  66          -2        NaN   \n47             176.0    75.0                  67          -4        8.0   \n48             100.0    79.0                  69          -3       17.0   \n49             104.0    70.0                  59          -6       41.0   \n50              95.0    79.0                  75          -6        7.0   \n\n    Valence ()  Length  Acousticness  Speechiness  Popularity  \n46        44.0   182.0             7            5        88.0  \n47        80.0   202.0            24            6        88.0  \n48        67.0   214.0            19            5        88.0  \n49        50.0   218.0            23            3        88.0  \n50        61.0   206.0            21           12        82.0  ",
      "text/html": "<div>\n<style scoped>\n    .dataframe tbody tr th:only-of-type {\n        vertical-align: middle;\n    }\n\n    .dataframe tbody tr th {\n        vertical-align: top;\n    }\n\n    .dataframe thead th {\n        text-align: right;\n    }\n</style>\n<table border=\"1\" class=\"dataframe\">\n  <thead>\n    <tr style=\"text-align: right;\">\n      <th></th>\n      <th>Track.Name</th>\n      <th>Artist.Name</th>\n      <th>Genre</th>\n      <th>Beats.Per.Minute</th>\n      <th>Energy</th>\n      <th>Danceability..db..</th>\n      <th>Loudness..</th>\n      <th>Liveness.</th>\n      <th>Valence ()</th>\n      <th>Length</th>\n      <th>Acousticness</th>\n      <th>Speechiness</th>\n      <th>Popularity</th>\n    </tr>\n  </thead>\n  <tbody>\n    <tr>\n      <th>46</th>\n      <td>One Thing Right</td>\n      <td>Marshmello</td>\n      <td>brostep</td>\n      <td>88.0</td>\n      <td>62.0</td>\n      <td>66</td>\n      <td>-2</td>\n      <td>NaN</td>\n      <td>44.0</td>\n      <td>182.0</td>\n      <td>7</td>\n      <td>5</td>\n      <td>88.0</td>\n    </tr>\n    <tr>\n      <th>47</th>\n      <td>Te Robar�</td>\n      <td>Nicky Jam</td>\n      <td>latin</td>\n      <td>176.0</td>\n      <td>75.0</td>\n      <td>67</td>\n      <td>-4</td>\n      <td>8.0</td>\n      <td>80.0</td>\n      <td>202.0</td>\n      <td>24</td>\n      <td>6</td>\n      <td>88.0</td>\n    </tr>\n    <tr>\n      <th>48</th>\n      <td>Happier</td>\n      <td>Marshmello</td>\n      <td>brostep</td>\n      <td>100.0</td>\n      <td>79.0</td>\n      <td>69</td>\n      <td>-3</td>\n      <td>17.0</td>\n      <td>67.0</td>\n      <td>214.0</td>\n      <td>19</td>\n      <td>5</td>\n      <td>88.0</td>\n    </tr>\n    <tr>\n      <th>49</th>\n      <td>Call You Mine</td>\n      <td>The Chainsmokers</td>\n      <td>edm</td>\n      <td>104.0</td>\n      <td>70.0</td>\n      <td>59</td>\n      <td>-6</td>\n      <td>41.0</td>\n      <td>50.0</td>\n      <td>218.0</td>\n      <td>23</td>\n      <td>3</td>\n      <td>88.0</td>\n    </tr>\n    <tr>\n      <th>50</th>\n      <td>Cross Me (feat. Chance the Rapper &amp; PnB Rock)</td>\n      <td>Ed Sheeran</td>\n      <td>pop</td>\n      <td>95.0</td>\n      <td>79.0</td>\n      <td>75</td>\n      <td>-6</td>\n      <td>7.0</td>\n      <td>61.0</td>\n      <td>206.0</td>\n      <td>21</td>\n      <td>12</td>\n      <td>82.0</td>\n    </tr>\n  </tbody>\n</table>\n</div>"
     },
     "metadata": {},
     "execution_count": 74
    }
   ],
   "source": [
    "music_df.tail()"
   ]
  },
  {
   "cell_type": "code",
   "execution_count": 75,
   "metadata": {},
   "outputs": [],
   "source": [
    "music_df.columns = [\"name\", \"artist\", \"genre\", \"bpm\", \"energy\", \"dance\", \"loudness\", \"liveness\", \"valence\", \"length\", \"acousticness\", \"speechiness\", \"popularity\"]"
   ]
  },
  {
   "cell_type": "code",
   "execution_count": 77,
   "metadata": {},
   "outputs": [
    {
     "output_type": "stream",
     "name": "stdout",
     "text": "<class 'pandas.core.frame.DataFrame'>\nInt64Index: 41 entries, 1 to 50\nData columns (total 13 columns):\n #   Column        Non-Null Count  Dtype  \n---  ------        --------------  -----  \n 0   name          41 non-null     object \n 1   artist        41 non-null     object \n 2   genre         41 non-null     object \n 3   bpm           41 non-null     float64\n 4   energy        41 non-null     float64\n 5   dance         41 non-null     int64  \n 6   loudness      41 non-null     int64  \n 7   liveness      41 non-null     float64\n 8   valence       41 non-null     float64\n 9   length        41 non-null     float64\n 10  acousticness  41 non-null     int64  \n 11  speechiness   41 non-null     int64  \n 12  popularity    41 non-null     float64\ndtypes: float64(6), int64(4), object(3)\nmemory usage: 4.5+ KB\n"
    }
   ],
   "source": [
    "music_df_dropna = music_df.dropna()\n",
    "\n",
    "music_df_dropna.info()"
   ]
  },
  {
   "cell_type": "code",
   "execution_count": 78,
   "metadata": {},
   "outputs": [
    {
     "output_type": "stream",
     "name": "stdout",
     "text": "<class 'pandas.core.frame.DataFrame'>\nInt64Index: 50 entries, 1 to 50\nData columns (total 13 columns):\n #   Column        Non-Null Count  Dtype  \n---  ------        --------------  -----  \n 0   name          50 non-null     object \n 1   artist        50 non-null     object \n 2   genre         50 non-null     object \n 3   bpm           50 non-null     float64\n 4   energy        50 non-null     float64\n 5   dance         50 non-null     int64  \n 6   loudness      50 non-null     int64  \n 7   liveness      50 non-null     float64\n 8   valence       50 non-null     float64\n 9   length        50 non-null     float64\n 10  acousticness  50 non-null     int64  \n 11  speechiness   50 non-null     int64  \n 12  popularity    50 non-null     float64\ndtypes: float64(6), int64(4), object(3)\nmemory usage: 5.5+ KB\n"
    }
   ],
   "source": [
    "music_df_fill_mean = music_df.fillna(music_df.mean())\n",
    "\n",
    "music_df_fill_mean.info()"
   ]
  },
  {
   "cell_type": "code",
   "execution_count": 79,
   "metadata": {},
   "outputs": [
    {
     "output_type": "stream",
     "name": "stdout",
     "text": "<class 'pandas.core.frame.DataFrame'>\nInt64Index: 50 entries, 1 to 50\nData columns (total 13 columns):\n #   Column        Non-Null Count  Dtype  \n---  ------        --------------  -----  \n 0   name          50 non-null     object \n 1   artist        50 non-null     object \n 2   genre         50 non-null     object \n 3   bpm           50 non-null     float64\n 4   energy        50 non-null     float64\n 5   dance         50 non-null     int64  \n 6   loudness      50 non-null     int64  \n 7   liveness      50 non-null     float64\n 8   valence       50 non-null     float64\n 9   length        50 non-null     float64\n 10  acousticness  50 non-null     int64  \n 11  speechiness   50 non-null     int64  \n 12  popularity    50 non-null     float64\ndtypes: float64(6), int64(4), object(3)\nmemory usage: 5.5+ KB\n"
    }
   ],
   "source": [
    "music_df_fill_median = music_df.fillna(music_df.median())\n",
    "\n",
    "music_df_fill_median.info()"
   ]
  },
  {
   "cell_type": "code",
   "execution_count": 113,
   "metadata": {},
   "outputs": [
    {
     "output_type": "execute_result",
     "data": {
      "text/plain": "'Shawn Mendes'"
     },
     "metadata": {},
     "execution_count": 113
    }
   ],
   "source": [
    "least_popular = music_df_fill_mean[music_df_fill_mean.popularity == music_df_fill_mean.popularity.min()].iloc[0]\n",
    "\n",
    "least_popular.artist"
   ]
  },
  {
   "cell_type": "code",
   "execution_count": 114,
   "metadata": {},
   "outputs": [
    {
     "output_type": "execute_result",
     "data": {
      "text/plain": "                   name        artist         genre         bpm  energy  \\\n26  If I Can't Have You  Shawn Mendes  canadian pop  119.354167    82.0   \n\n    dance  loudness   liveness  valence  length  acousticness  speechiness  \\\n26     69        -4  13.791667     87.0   191.0            49            6   \n\n    popularity  \n26        70.0  ",
      "text/html": "<div>\n<style scoped>\n    .dataframe tbody tr th:only-of-type {\n        vertical-align: middle;\n    }\n\n    .dataframe tbody tr th {\n        vertical-align: top;\n    }\n\n    .dataframe thead th {\n        text-align: right;\n    }\n</style>\n<table border=\"1\" class=\"dataframe\">\n  <thead>\n    <tr style=\"text-align: right;\">\n      <th></th>\n      <th>name</th>\n      <th>artist</th>\n      <th>genre</th>\n      <th>bpm</th>\n      <th>energy</th>\n      <th>dance</th>\n      <th>loudness</th>\n      <th>liveness</th>\n      <th>valence</th>\n      <th>length</th>\n      <th>acousticness</th>\n      <th>speechiness</th>\n      <th>popularity</th>\n    </tr>\n  </thead>\n  <tbody>\n    <tr>\n      <th>26</th>\n      <td>If I Can't Have You</td>\n      <td>Shawn Mendes</td>\n      <td>canadian pop</td>\n      <td>119.354167</td>\n      <td>82.0</td>\n      <td>69</td>\n      <td>-4</td>\n      <td>13.791667</td>\n      <td>87.0</td>\n      <td>191.0</td>\n      <td>49</td>\n      <td>6</td>\n      <td>70.0</td>\n    </tr>\n  </tbody>\n</table>\n</div>"
     },
     "metadata": {},
     "execution_count": 114
    }
   ],
   "source": [
    "artist_songs = music_df_fill_mean[music_df_fill_mean.artist == least_popular.artist]\n",
    "\n",
    "loudest = artist_songs[artist_songs.loudness == artist_songs.loudness.max()]\n",
    "\n",
    "loudest"
   ]
  },
  {
   "cell_type": "markdown",
   "metadata": {},
   "source": [
    "## Plotting"
   ]
  },
  {
   "cell_type": "code",
   "execution_count": 115,
   "metadata": {},
   "outputs": [],
   "source": [
    "df = music_df_fill_mean"
   ]
  },
  {
   "cell_type": "code",
   "execution_count": 116,
   "metadata": {},
   "outputs": [
    {
     "output_type": "display_data",
     "data": {
      "application/vnd.plotly.v1+json": {
       "config": {
        "plotlyServerURL": "https://plot.ly"
       },
       "data": [
        {
         "name": "energy",
         "type": "scatter",
         "x": [
          -11,
          -11,
          -11,
          -9,
          -8,
          -8,
          -8,
          -7,
          -7,
          -7,
          -7,
          -7,
          -7,
          -6,
          -6,
          -6,
          -6,
          -6,
          -6,
          -6,
          -6,
          -6,
          -6,
          -6,
          -6,
          -6,
          -5,
          -5,
          -5,
          -5,
          -5,
          -5,
          -5,
          -5,
          -4,
          -4,
          -4,
          -4,
          -4,
          -4,
          -4,
          -4,
          -4,
          -4,
          -4,
          -3,
          -3,
          -3,
          -2,
          -2
         ],
         "y": [
          45,
          32,
          43,
          40,
          65,
          51,
          39,
          68,
          72,
          59,
          74,
          46,
          45,
          68,
          56,
          59,
          70,
          59,
          39,
          55,
          48,
          64,
          62,
          41,
          79,
          65,
          82,
          68,
          73,
          70,
          68,
          71,
          88,
          62,
          79,
          75,
          69,
          81,
          80,
          65,
          50,
          63.755102040816325,
          71,
          78,
          82,
          86,
          62,
          79,
          79,
          62
         ]
        },
        {
         "name": "bpm",
         "type": "scatter",
         "x": [
          -11,
          -11,
          -11,
          -9,
          -8,
          -8,
          -8,
          -7,
          -7,
          -7,
          -7,
          -7,
          -7,
          -6,
          -6,
          -6,
          -6,
          -6,
          -6,
          -6,
          -6,
          -6,
          -6,
          -6,
          -6,
          -6,
          -5,
          -5,
          -5,
          -5,
          -5,
          -5,
          -5,
          -5,
          -4,
          -4,
          -4,
          -4,
          -4,
          -4,
          -4,
          -4,
          -4,
          -4,
          -4,
          -3,
          -3,
          -3,
          -2,
          -2
         ],
         "y": [
          135,
          140,
          135,
          136,
          93,
          85,
          130,
          104,
          114,
          98,
          124,
          96,
          93,
          85,
          95,
          98,
          104,
          154,
          96,
          117,
          90,
          180,
          136,
          110,
          95,
          176,
          152,
          102,
          138,
          176,
          111,
          96,
          100,
          176,
          92,
          176,
          98,
          105,
          190,
          119.35416666666667,
          101,
          93,
          96,
          92,
          119.35416666666667,
          94,
          158,
          100,
          176,
          88
         ]
        }
       ],
       "layout": {
        "template": {
         "data": {
          "bar": [
           {
            "error_x": {
             "color": "#2a3f5f"
            },
            "error_y": {
             "color": "#2a3f5f"
            },
            "marker": {
             "line": {
              "color": "#E5ECF6",
              "width": 0.5
             }
            },
            "type": "bar"
           }
          ],
          "barpolar": [
           {
            "marker": {
             "line": {
              "color": "#E5ECF6",
              "width": 0.5
             }
            },
            "type": "barpolar"
           }
          ],
          "carpet": [
           {
            "aaxis": {
             "endlinecolor": "#2a3f5f",
             "gridcolor": "white",
             "linecolor": "white",
             "minorgridcolor": "white",
             "startlinecolor": "#2a3f5f"
            },
            "baxis": {
             "endlinecolor": "#2a3f5f",
             "gridcolor": "white",
             "linecolor": "white",
             "minorgridcolor": "white",
             "startlinecolor": "#2a3f5f"
            },
            "type": "carpet"
           }
          ],
          "choropleth": [
           {
            "colorbar": {
             "outlinewidth": 0,
             "ticks": ""
            },
            "type": "choropleth"
           }
          ],
          "contour": [
           {
            "colorbar": {
             "outlinewidth": 0,
             "ticks": ""
            },
            "colorscale": [
             [
              0,
              "#0d0887"
             ],
             [
              0.1111111111111111,
              "#46039f"
             ],
             [
              0.2222222222222222,
              "#7201a8"
             ],
             [
              0.3333333333333333,
              "#9c179e"
             ],
             [
              0.4444444444444444,
              "#bd3786"
             ],
             [
              0.5555555555555556,
              "#d8576b"
             ],
             [
              0.6666666666666666,
              "#ed7953"
             ],
             [
              0.7777777777777778,
              "#fb9f3a"
             ],
             [
              0.8888888888888888,
              "#fdca26"
             ],
             [
              1,
              "#f0f921"
             ]
            ],
            "type": "contour"
           }
          ],
          "contourcarpet": [
           {
            "colorbar": {
             "outlinewidth": 0,
             "ticks": ""
            },
            "type": "contourcarpet"
           }
          ],
          "heatmap": [
           {
            "colorbar": {
             "outlinewidth": 0,
             "ticks": ""
            },
            "colorscale": [
             [
              0,
              "#0d0887"
             ],
             [
              0.1111111111111111,
              "#46039f"
             ],
             [
              0.2222222222222222,
              "#7201a8"
             ],
             [
              0.3333333333333333,
              "#9c179e"
             ],
             [
              0.4444444444444444,
              "#bd3786"
             ],
             [
              0.5555555555555556,
              "#d8576b"
             ],
             [
              0.6666666666666666,
              "#ed7953"
             ],
             [
              0.7777777777777778,
              "#fb9f3a"
             ],
             [
              0.8888888888888888,
              "#fdca26"
             ],
             [
              1,
              "#f0f921"
             ]
            ],
            "type": "heatmap"
           }
          ],
          "heatmapgl": [
           {
            "colorbar": {
             "outlinewidth": 0,
             "ticks": ""
            },
            "colorscale": [
             [
              0,
              "#0d0887"
             ],
             [
              0.1111111111111111,
              "#46039f"
             ],
             [
              0.2222222222222222,
              "#7201a8"
             ],
             [
              0.3333333333333333,
              "#9c179e"
             ],
             [
              0.4444444444444444,
              "#bd3786"
             ],
             [
              0.5555555555555556,
              "#d8576b"
             ],
             [
              0.6666666666666666,
              "#ed7953"
             ],
             [
              0.7777777777777778,
              "#fb9f3a"
             ],
             [
              0.8888888888888888,
              "#fdca26"
             ],
             [
              1,
              "#f0f921"
             ]
            ],
            "type": "heatmapgl"
           }
          ],
          "histogram": [
           {
            "marker": {
             "colorbar": {
              "outlinewidth": 0,
              "ticks": ""
             }
            },
            "type": "histogram"
           }
          ],
          "histogram2d": [
           {
            "colorbar": {
             "outlinewidth": 0,
             "ticks": ""
            },
            "colorscale": [
             [
              0,
              "#0d0887"
             ],
             [
              0.1111111111111111,
              "#46039f"
             ],
             [
              0.2222222222222222,
              "#7201a8"
             ],
             [
              0.3333333333333333,
              "#9c179e"
             ],
             [
              0.4444444444444444,
              "#bd3786"
             ],
             [
              0.5555555555555556,
              "#d8576b"
             ],
             [
              0.6666666666666666,
              "#ed7953"
             ],
             [
              0.7777777777777778,
              "#fb9f3a"
             ],
             [
              0.8888888888888888,
              "#fdca26"
             ],
             [
              1,
              "#f0f921"
             ]
            ],
            "type": "histogram2d"
           }
          ],
          "histogram2dcontour": [
           {
            "colorbar": {
             "outlinewidth": 0,
             "ticks": ""
            },
            "colorscale": [
             [
              0,
              "#0d0887"
             ],
             [
              0.1111111111111111,
              "#46039f"
             ],
             [
              0.2222222222222222,
              "#7201a8"
             ],
             [
              0.3333333333333333,
              "#9c179e"
             ],
             [
              0.4444444444444444,
              "#bd3786"
             ],
             [
              0.5555555555555556,
              "#d8576b"
             ],
             [
              0.6666666666666666,
              "#ed7953"
             ],
             [
              0.7777777777777778,
              "#fb9f3a"
             ],
             [
              0.8888888888888888,
              "#fdca26"
             ],
             [
              1,
              "#f0f921"
             ]
            ],
            "type": "histogram2dcontour"
           }
          ],
          "mesh3d": [
           {
            "colorbar": {
             "outlinewidth": 0,
             "ticks": ""
            },
            "type": "mesh3d"
           }
          ],
          "parcoords": [
           {
            "line": {
             "colorbar": {
              "outlinewidth": 0,
              "ticks": ""
             }
            },
            "type": "parcoords"
           }
          ],
          "pie": [
           {
            "automargin": true,
            "type": "pie"
           }
          ],
          "scatter": [
           {
            "marker": {
             "colorbar": {
              "outlinewidth": 0,
              "ticks": ""
             }
            },
            "type": "scatter"
           }
          ],
          "scatter3d": [
           {
            "line": {
             "colorbar": {
              "outlinewidth": 0,
              "ticks": ""
             }
            },
            "marker": {
             "colorbar": {
              "outlinewidth": 0,
              "ticks": ""
             }
            },
            "type": "scatter3d"
           }
          ],
          "scattercarpet": [
           {
            "marker": {
             "colorbar": {
              "outlinewidth": 0,
              "ticks": ""
             }
            },
            "type": "scattercarpet"
           }
          ],
          "scattergeo": [
           {
            "marker": {
             "colorbar": {
              "outlinewidth": 0,
              "ticks": ""
             }
            },
            "type": "scattergeo"
           }
          ],
          "scattergl": [
           {
            "marker": {
             "colorbar": {
              "outlinewidth": 0,
              "ticks": ""
             }
            },
            "type": "scattergl"
           }
          ],
          "scattermapbox": [
           {
            "marker": {
             "colorbar": {
              "outlinewidth": 0,
              "ticks": ""
             }
            },
            "type": "scattermapbox"
           }
          ],
          "scatterpolar": [
           {
            "marker": {
             "colorbar": {
              "outlinewidth": 0,
              "ticks": ""
             }
            },
            "type": "scatterpolar"
           }
          ],
          "scatterpolargl": [
           {
            "marker": {
             "colorbar": {
              "outlinewidth": 0,
              "ticks": ""
             }
            },
            "type": "scatterpolargl"
           }
          ],
          "scatterternary": [
           {
            "marker": {
             "colorbar": {
              "outlinewidth": 0,
              "ticks": ""
             }
            },
            "type": "scatterternary"
           }
          ],
          "surface": [
           {
            "colorbar": {
             "outlinewidth": 0,
             "ticks": ""
            },
            "colorscale": [
             [
              0,
              "#0d0887"
             ],
             [
              0.1111111111111111,
              "#46039f"
             ],
             [
              0.2222222222222222,
              "#7201a8"
             ],
             [
              0.3333333333333333,
              "#9c179e"
             ],
             [
              0.4444444444444444,
              "#bd3786"
             ],
             [
              0.5555555555555556,
              "#d8576b"
             ],
             [
              0.6666666666666666,
              "#ed7953"
             ],
             [
              0.7777777777777778,
              "#fb9f3a"
             ],
             [
              0.8888888888888888,
              "#fdca26"
             ],
             [
              1,
              "#f0f921"
             ]
            ],
            "type": "surface"
           }
          ],
          "table": [
           {
            "cells": {
             "fill": {
              "color": "#EBF0F8"
             },
             "line": {
              "color": "white"
             }
            },
            "header": {
             "fill": {
              "color": "#C8D4E3"
             },
             "line": {
              "color": "white"
             }
            },
            "type": "table"
           }
          ]
         },
         "layout": {
          "annotationdefaults": {
           "arrowcolor": "#2a3f5f",
           "arrowhead": 0,
           "arrowwidth": 1
          },
          "coloraxis": {
           "colorbar": {
            "outlinewidth": 0,
            "ticks": ""
           }
          },
          "colorscale": {
           "diverging": [
            [
             0,
             "#8e0152"
            ],
            [
             0.1,
             "#c51b7d"
            ],
            [
             0.2,
             "#de77ae"
            ],
            [
             0.3,
             "#f1b6da"
            ],
            [
             0.4,
             "#fde0ef"
            ],
            [
             0.5,
             "#f7f7f7"
            ],
            [
             0.6,
             "#e6f5d0"
            ],
            [
             0.7,
             "#b8e186"
            ],
            [
             0.8,
             "#7fbc41"
            ],
            [
             0.9,
             "#4d9221"
            ],
            [
             1,
             "#276419"
            ]
           ],
           "sequential": [
            [
             0,
             "#0d0887"
            ],
            [
             0.1111111111111111,
             "#46039f"
            ],
            [
             0.2222222222222222,
             "#7201a8"
            ],
            [
             0.3333333333333333,
             "#9c179e"
            ],
            [
             0.4444444444444444,
             "#bd3786"
            ],
            [
             0.5555555555555556,
             "#d8576b"
            ],
            [
             0.6666666666666666,
             "#ed7953"
            ],
            [
             0.7777777777777778,
             "#fb9f3a"
            ],
            [
             0.8888888888888888,
             "#fdca26"
            ],
            [
             1,
             "#f0f921"
            ]
           ],
           "sequentialminus": [
            [
             0,
             "#0d0887"
            ],
            [
             0.1111111111111111,
             "#46039f"
            ],
            [
             0.2222222222222222,
             "#7201a8"
            ],
            [
             0.3333333333333333,
             "#9c179e"
            ],
            [
             0.4444444444444444,
             "#bd3786"
            ],
            [
             0.5555555555555556,
             "#d8576b"
            ],
            [
             0.6666666666666666,
             "#ed7953"
            ],
            [
             0.7777777777777778,
             "#fb9f3a"
            ],
            [
             0.8888888888888888,
             "#fdca26"
            ],
            [
             1,
             "#f0f921"
            ]
           ]
          },
          "colorway": [
           "#636efa",
           "#EF553B",
           "#00cc96",
           "#ab63fa",
           "#FFA15A",
           "#19d3f3",
           "#FF6692",
           "#B6E880",
           "#FF97FF",
           "#FECB52"
          ],
          "font": {
           "color": "#2a3f5f"
          },
          "geo": {
           "bgcolor": "white",
           "lakecolor": "white",
           "landcolor": "#E5ECF6",
           "showlakes": true,
           "showland": true,
           "subunitcolor": "white"
          },
          "hoverlabel": {
           "align": "left"
          },
          "hovermode": "closest",
          "mapbox": {
           "style": "light"
          },
          "paper_bgcolor": "white",
          "plot_bgcolor": "#E5ECF6",
          "polar": {
           "angularaxis": {
            "gridcolor": "white",
            "linecolor": "white",
            "ticks": ""
           },
           "bgcolor": "#E5ECF6",
           "radialaxis": {
            "gridcolor": "white",
            "linecolor": "white",
            "ticks": ""
           }
          },
          "scene": {
           "xaxis": {
            "backgroundcolor": "#E5ECF6",
            "gridcolor": "white",
            "gridwidth": 2,
            "linecolor": "white",
            "showbackground": true,
            "ticks": "",
            "zerolinecolor": "white"
           },
           "yaxis": {
            "backgroundcolor": "#E5ECF6",
            "gridcolor": "white",
            "gridwidth": 2,
            "linecolor": "white",
            "showbackground": true,
            "ticks": "",
            "zerolinecolor": "white"
           },
           "zaxis": {
            "backgroundcolor": "#E5ECF6",
            "gridcolor": "white",
            "gridwidth": 2,
            "linecolor": "white",
            "showbackground": true,
            "ticks": "",
            "zerolinecolor": "white"
           }
          },
          "shapedefaults": {
           "line": {
            "color": "#2a3f5f"
           }
          },
          "ternary": {
           "aaxis": {
            "gridcolor": "white",
            "linecolor": "white",
            "ticks": ""
           },
           "baxis": {
            "gridcolor": "white",
            "linecolor": "white",
            "ticks": ""
           },
           "bgcolor": "#E5ECF6",
           "caxis": {
            "gridcolor": "white",
            "linecolor": "white",
            "ticks": ""
           }
          },
          "title": {
           "x": 0.05
          },
          "xaxis": {
           "automargin": true,
           "gridcolor": "white",
           "linecolor": "white",
           "ticks": "",
           "title": {
            "standoff": 15
           },
           "zerolinecolor": "white",
           "zerolinewidth": 2
          },
          "yaxis": {
           "automargin": true,
           "gridcolor": "white",
           "linecolor": "white",
           "ticks": "",
           "title": {
            "standoff": 15
           },
           "zerolinecolor": "white",
           "zerolinewidth": 2
          }
         }
        }
       }
      }
     },
     "metadata": {}
    }
   ],
   "source": [
    "fig = go.Figure()\n",
    "\n",
    "loud_sort = df.sort_values(by=\"loudness\")\n",
    "\n",
    "fig.add_trace(go.Scatter(x=loud_sort.loudness, y=loud_sort.energy, name=\"energy\"))\n",
    "fig.add_trace(go.Scatter(x=loud_sort.loudness, y=loud_sort.bpm, name=\"bpm\"))"
   ]
  },
  {
   "cell_type": "code",
   "execution_count": 134,
   "metadata": {},
   "outputs": [
    {
     "output_type": "execute_result",
     "data": {
      "text/plain": "            name  counts\n0      Ali Gatie       1\n1       Anuel AA       1\n2  Ariana Grande       2\n3      Bad Bunny       1\n4  Billie Eilish       2",
      "text/html": "<div>\n<style scoped>\n    .dataframe tbody tr th:only-of-type {\n        vertical-align: middle;\n    }\n\n    .dataframe tbody tr th {\n        vertical-align: top;\n    }\n\n    .dataframe thead th {\n        text-align: right;\n    }\n</style>\n<table border=\"1\" class=\"dataframe\">\n  <thead>\n    <tr style=\"text-align: right;\">\n      <th></th>\n      <th>name</th>\n      <th>counts</th>\n    </tr>\n  </thead>\n  <tbody>\n    <tr>\n      <th>0</th>\n      <td>Ali Gatie</td>\n      <td>1</td>\n    </tr>\n    <tr>\n      <th>1</th>\n      <td>Anuel AA</td>\n      <td>1</td>\n    </tr>\n    <tr>\n      <th>2</th>\n      <td>Ariana Grande</td>\n      <td>2</td>\n    </tr>\n    <tr>\n      <th>3</th>\n      <td>Bad Bunny</td>\n      <td>1</td>\n    </tr>\n    <tr>\n      <th>4</th>\n      <td>Billie Eilish</td>\n      <td>2</td>\n    </tr>\n  </tbody>\n</table>\n</div>"
     },
     "metadata": {},
     "execution_count": 134
    }
   ],
   "source": [
    "names, counts = np.unique(df.artist, return_counts=True)\n",
    "\n",
    "df2 = pd.DataFrame.from_dict(dict(zip(names, counts)), orient=\"index\").reset_index()\n",
    "df2.columns = [\"name\", \"counts\"]\n",
    "df2.head()"
   ]
  },
  {
   "cell_type": "code",
   "execution_count": 136,
   "metadata": {},
   "outputs": [
    {
     "output_type": "display_data",
     "data": {
      "application/vnd.plotly.v1+json": {
       "config": {
        "plotlyServerURL": "https://plot.ly"
       },
       "data": [
        {
         "type": "bar",
         "x": [
          "Ali Gatie",
          "Anuel AA",
          "Ariana Grande",
          "Bad Bunny",
          "Billie Eilish",
          "Chris Brown",
          "DJ Snake",
          "Daddy Yankee",
          "Drake",
          "Ed Sheeran",
          "J Balvin",
          "Jhay Cortez",
          "Jonas Brothers",
          "Katy Perry",
          "Khalid",
          "Kygo",
          "Lady Gaga",
          "Lauv",
          "Lewis Capaldi",
          "Lil Nas X",
          "Lil Tecca",
          "Lizzo",
          "Lunay",
          "MEDUZA",
          "Maluma",
          "Marshmello",
          "Martin Garrix",
          "Nicky Jam",
          "Post Malone",
          "ROSAL�A",
          "Sam Smith",
          "Sech",
          "Shawn Mendes",
          "Taylor Swift",
          "The Chainsmokers",
          "Tones and I",
          "Y2K",
          "Young Thug"
         ],
         "y": [
          1,
          1,
          2,
          1,
          2,
          1,
          1,
          1,
          1,
          4,
          2,
          1,
          1,
          1,
          1,
          1,
          1,
          1,
          1,
          2,
          1,
          1,
          1,
          1,
          1,
          2,
          1,
          1,
          2,
          1,
          1,
          2,
          2,
          1,
          2,
          1,
          1,
          1
         ]
        }
       ],
       "layout": {
        "template": {
         "data": {
          "bar": [
           {
            "error_x": {
             "color": "#2a3f5f"
            },
            "error_y": {
             "color": "#2a3f5f"
            },
            "marker": {
             "line": {
              "color": "#E5ECF6",
              "width": 0.5
             }
            },
            "type": "bar"
           }
          ],
          "barpolar": [
           {
            "marker": {
             "line": {
              "color": "#E5ECF6",
              "width": 0.5
             }
            },
            "type": "barpolar"
           }
          ],
          "carpet": [
           {
            "aaxis": {
             "endlinecolor": "#2a3f5f",
             "gridcolor": "white",
             "linecolor": "white",
             "minorgridcolor": "white",
             "startlinecolor": "#2a3f5f"
            },
            "baxis": {
             "endlinecolor": "#2a3f5f",
             "gridcolor": "white",
             "linecolor": "white",
             "minorgridcolor": "white",
             "startlinecolor": "#2a3f5f"
            },
            "type": "carpet"
           }
          ],
          "choropleth": [
           {
            "colorbar": {
             "outlinewidth": 0,
             "ticks": ""
            },
            "type": "choropleth"
           }
          ],
          "contour": [
           {
            "colorbar": {
             "outlinewidth": 0,
             "ticks": ""
            },
            "colorscale": [
             [
              0,
              "#0d0887"
             ],
             [
              0.1111111111111111,
              "#46039f"
             ],
             [
              0.2222222222222222,
              "#7201a8"
             ],
             [
              0.3333333333333333,
              "#9c179e"
             ],
             [
              0.4444444444444444,
              "#bd3786"
             ],
             [
              0.5555555555555556,
              "#d8576b"
             ],
             [
              0.6666666666666666,
              "#ed7953"
             ],
             [
              0.7777777777777778,
              "#fb9f3a"
             ],
             [
              0.8888888888888888,
              "#fdca26"
             ],
             [
              1,
              "#f0f921"
             ]
            ],
            "type": "contour"
           }
          ],
          "contourcarpet": [
           {
            "colorbar": {
             "outlinewidth": 0,
             "ticks": ""
            },
            "type": "contourcarpet"
           }
          ],
          "heatmap": [
           {
            "colorbar": {
             "outlinewidth": 0,
             "ticks": ""
            },
            "colorscale": [
             [
              0,
              "#0d0887"
             ],
             [
              0.1111111111111111,
              "#46039f"
             ],
             [
              0.2222222222222222,
              "#7201a8"
             ],
             [
              0.3333333333333333,
              "#9c179e"
             ],
             [
              0.4444444444444444,
              "#bd3786"
             ],
             [
              0.5555555555555556,
              "#d8576b"
             ],
             [
              0.6666666666666666,
              "#ed7953"
             ],
             [
              0.7777777777777778,
              "#fb9f3a"
             ],
             [
              0.8888888888888888,
              "#fdca26"
             ],
             [
              1,
              "#f0f921"
             ]
            ],
            "type": "heatmap"
           }
          ],
          "heatmapgl": [
           {
            "colorbar": {
             "outlinewidth": 0,
             "ticks": ""
            },
            "colorscale": [
             [
              0,
              "#0d0887"
             ],
             [
              0.1111111111111111,
              "#46039f"
             ],
             [
              0.2222222222222222,
              "#7201a8"
             ],
             [
              0.3333333333333333,
              "#9c179e"
             ],
             [
              0.4444444444444444,
              "#bd3786"
             ],
             [
              0.5555555555555556,
              "#d8576b"
             ],
             [
              0.6666666666666666,
              "#ed7953"
             ],
             [
              0.7777777777777778,
              "#fb9f3a"
             ],
             [
              0.8888888888888888,
              "#fdca26"
             ],
             [
              1,
              "#f0f921"
             ]
            ],
            "type": "heatmapgl"
           }
          ],
          "histogram": [
           {
            "marker": {
             "colorbar": {
              "outlinewidth": 0,
              "ticks": ""
             }
            },
            "type": "histogram"
           }
          ],
          "histogram2d": [
           {
            "colorbar": {
             "outlinewidth": 0,
             "ticks": ""
            },
            "colorscale": [
             [
              0,
              "#0d0887"
             ],
             [
              0.1111111111111111,
              "#46039f"
             ],
             [
              0.2222222222222222,
              "#7201a8"
             ],
             [
              0.3333333333333333,
              "#9c179e"
             ],
             [
              0.4444444444444444,
              "#bd3786"
             ],
             [
              0.5555555555555556,
              "#d8576b"
             ],
             [
              0.6666666666666666,
              "#ed7953"
             ],
             [
              0.7777777777777778,
              "#fb9f3a"
             ],
             [
              0.8888888888888888,
              "#fdca26"
             ],
             [
              1,
              "#f0f921"
             ]
            ],
            "type": "histogram2d"
           }
          ],
          "histogram2dcontour": [
           {
            "colorbar": {
             "outlinewidth": 0,
             "ticks": ""
            },
            "colorscale": [
             [
              0,
              "#0d0887"
             ],
             [
              0.1111111111111111,
              "#46039f"
             ],
             [
              0.2222222222222222,
              "#7201a8"
             ],
             [
              0.3333333333333333,
              "#9c179e"
             ],
             [
              0.4444444444444444,
              "#bd3786"
             ],
             [
              0.5555555555555556,
              "#d8576b"
             ],
             [
              0.6666666666666666,
              "#ed7953"
             ],
             [
              0.7777777777777778,
              "#fb9f3a"
             ],
             [
              0.8888888888888888,
              "#fdca26"
             ],
             [
              1,
              "#f0f921"
             ]
            ],
            "type": "histogram2dcontour"
           }
          ],
          "mesh3d": [
           {
            "colorbar": {
             "outlinewidth": 0,
             "ticks": ""
            },
            "type": "mesh3d"
           }
          ],
          "parcoords": [
           {
            "line": {
             "colorbar": {
              "outlinewidth": 0,
              "ticks": ""
             }
            },
            "type": "parcoords"
           }
          ],
          "pie": [
           {
            "automargin": true,
            "type": "pie"
           }
          ],
          "scatter": [
           {
            "marker": {
             "colorbar": {
              "outlinewidth": 0,
              "ticks": ""
             }
            },
            "type": "scatter"
           }
          ],
          "scatter3d": [
           {
            "line": {
             "colorbar": {
              "outlinewidth": 0,
              "ticks": ""
             }
            },
            "marker": {
             "colorbar": {
              "outlinewidth": 0,
              "ticks": ""
             }
            },
            "type": "scatter3d"
           }
          ],
          "scattercarpet": [
           {
            "marker": {
             "colorbar": {
              "outlinewidth": 0,
              "ticks": ""
             }
            },
            "type": "scattercarpet"
           }
          ],
          "scattergeo": [
           {
            "marker": {
             "colorbar": {
              "outlinewidth": 0,
              "ticks": ""
             }
            },
            "type": "scattergeo"
           }
          ],
          "scattergl": [
           {
            "marker": {
             "colorbar": {
              "outlinewidth": 0,
              "ticks": ""
             }
            },
            "type": "scattergl"
           }
          ],
          "scattermapbox": [
           {
            "marker": {
             "colorbar": {
              "outlinewidth": 0,
              "ticks": ""
             }
            },
            "type": "scattermapbox"
           }
          ],
          "scatterpolar": [
           {
            "marker": {
             "colorbar": {
              "outlinewidth": 0,
              "ticks": ""
             }
            },
            "type": "scatterpolar"
           }
          ],
          "scatterpolargl": [
           {
            "marker": {
             "colorbar": {
              "outlinewidth": 0,
              "ticks": ""
             }
            },
            "type": "scatterpolargl"
           }
          ],
          "scatterternary": [
           {
            "marker": {
             "colorbar": {
              "outlinewidth": 0,
              "ticks": ""
             }
            },
            "type": "scatterternary"
           }
          ],
          "surface": [
           {
            "colorbar": {
             "outlinewidth": 0,
             "ticks": ""
            },
            "colorscale": [
             [
              0,
              "#0d0887"
             ],
             [
              0.1111111111111111,
              "#46039f"
             ],
             [
              0.2222222222222222,
              "#7201a8"
             ],
             [
              0.3333333333333333,
              "#9c179e"
             ],
             [
              0.4444444444444444,
              "#bd3786"
             ],
             [
              0.5555555555555556,
              "#d8576b"
             ],
             [
              0.6666666666666666,
              "#ed7953"
             ],
             [
              0.7777777777777778,
              "#fb9f3a"
             ],
             [
              0.8888888888888888,
              "#fdca26"
             ],
             [
              1,
              "#f0f921"
             ]
            ],
            "type": "surface"
           }
          ],
          "table": [
           {
            "cells": {
             "fill": {
              "color": "#EBF0F8"
             },
             "line": {
              "color": "white"
             }
            },
            "header": {
             "fill": {
              "color": "#C8D4E3"
             },
             "line": {
              "color": "white"
             }
            },
            "type": "table"
           }
          ]
         },
         "layout": {
          "annotationdefaults": {
           "arrowcolor": "#2a3f5f",
           "arrowhead": 0,
           "arrowwidth": 1
          },
          "coloraxis": {
           "colorbar": {
            "outlinewidth": 0,
            "ticks": ""
           }
          },
          "colorscale": {
           "diverging": [
            [
             0,
             "#8e0152"
            ],
            [
             0.1,
             "#c51b7d"
            ],
            [
             0.2,
             "#de77ae"
            ],
            [
             0.3,
             "#f1b6da"
            ],
            [
             0.4,
             "#fde0ef"
            ],
            [
             0.5,
             "#f7f7f7"
            ],
            [
             0.6,
             "#e6f5d0"
            ],
            [
             0.7,
             "#b8e186"
            ],
            [
             0.8,
             "#7fbc41"
            ],
            [
             0.9,
             "#4d9221"
            ],
            [
             1,
             "#276419"
            ]
           ],
           "sequential": [
            [
             0,
             "#0d0887"
            ],
            [
             0.1111111111111111,
             "#46039f"
            ],
            [
             0.2222222222222222,
             "#7201a8"
            ],
            [
             0.3333333333333333,
             "#9c179e"
            ],
            [
             0.4444444444444444,
             "#bd3786"
            ],
            [
             0.5555555555555556,
             "#d8576b"
            ],
            [
             0.6666666666666666,
             "#ed7953"
            ],
            [
             0.7777777777777778,
             "#fb9f3a"
            ],
            [
             0.8888888888888888,
             "#fdca26"
            ],
            [
             1,
             "#f0f921"
            ]
           ],
           "sequentialminus": [
            [
             0,
             "#0d0887"
            ],
            [
             0.1111111111111111,
             "#46039f"
            ],
            [
             0.2222222222222222,
             "#7201a8"
            ],
            [
             0.3333333333333333,
             "#9c179e"
            ],
            [
             0.4444444444444444,
             "#bd3786"
            ],
            [
             0.5555555555555556,
             "#d8576b"
            ],
            [
             0.6666666666666666,
             "#ed7953"
            ],
            [
             0.7777777777777778,
             "#fb9f3a"
            ],
            [
             0.8888888888888888,
             "#fdca26"
            ],
            [
             1,
             "#f0f921"
            ]
           ]
          },
          "colorway": [
           "#636efa",
           "#EF553B",
           "#00cc96",
           "#ab63fa",
           "#FFA15A",
           "#19d3f3",
           "#FF6692",
           "#B6E880",
           "#FF97FF",
           "#FECB52"
          ],
          "font": {
           "color": "#2a3f5f"
          },
          "geo": {
           "bgcolor": "white",
           "lakecolor": "white",
           "landcolor": "#E5ECF6",
           "showlakes": true,
           "showland": true,
           "subunitcolor": "white"
          },
          "hoverlabel": {
           "align": "left"
          },
          "hovermode": "closest",
          "mapbox": {
           "style": "light"
          },
          "paper_bgcolor": "white",
          "plot_bgcolor": "#E5ECF6",
          "polar": {
           "angularaxis": {
            "gridcolor": "white",
            "linecolor": "white",
            "ticks": ""
           },
           "bgcolor": "#E5ECF6",
           "radialaxis": {
            "gridcolor": "white",
            "linecolor": "white",
            "ticks": ""
           }
          },
          "scene": {
           "xaxis": {
            "backgroundcolor": "#E5ECF6",
            "gridcolor": "white",
            "gridwidth": 2,
            "linecolor": "white",
            "showbackground": true,
            "ticks": "",
            "zerolinecolor": "white"
           },
           "yaxis": {
            "backgroundcolor": "#E5ECF6",
            "gridcolor": "white",
            "gridwidth": 2,
            "linecolor": "white",
            "showbackground": true,
            "ticks": "",
            "zerolinecolor": "white"
           },
           "zaxis": {
            "backgroundcolor": "#E5ECF6",
            "gridcolor": "white",
            "gridwidth": 2,
            "linecolor": "white",
            "showbackground": true,
            "ticks": "",
            "zerolinecolor": "white"
           }
          },
          "shapedefaults": {
           "line": {
            "color": "#2a3f5f"
           }
          },
          "ternary": {
           "aaxis": {
            "gridcolor": "white",
            "linecolor": "white",
            "ticks": ""
           },
           "baxis": {
            "gridcolor": "white",
            "linecolor": "white",
            "ticks": ""
           },
           "bgcolor": "#E5ECF6",
           "caxis": {
            "gridcolor": "white",
            "linecolor": "white",
            "ticks": ""
           }
          },
          "title": {
           "x": 0.05
          },
          "xaxis": {
           "automargin": true,
           "gridcolor": "white",
           "linecolor": "white",
           "ticks": "",
           "title": {
            "standoff": 15
           },
           "zerolinecolor": "white",
           "zerolinewidth": 2
          },
          "yaxis": {
           "automargin": true,
           "gridcolor": "white",
           "linecolor": "white",
           "ticks": "",
           "title": {
            "standoff": 15
           },
           "zerolinecolor": "white",
           "zerolinewidth": 2
          }
         }
        }
       }
      }
     },
     "metadata": {}
    }
   ],
   "source": [
    "fig = go.Figure()\n",
    "\n",
    "fig.add_trace(go.Bar(x=df2.name, y=df2.counts))"
   ]
  }
 ],
 "metadata": {
  "language_info": {
   "codemirror_mode": {
    "name": "ipython",
    "version": 3
   },
   "file_extension": ".py",
   "mimetype": "text/x-python",
   "name": "python",
   "nbconvert_exporter": "python",
   "pygments_lexer": "ipython3",
   "version": "3.8.3-final"
  },
  "orig_nbformat": 2,
  "kernelspec": {
   "name": "python38164bit462e0a1c309e4d38b282e2174445ebf6",
   "display_name": "Python 3.8.1 64-bit"
  }
 },
 "nbformat": 4,
 "nbformat_minor": 2
}